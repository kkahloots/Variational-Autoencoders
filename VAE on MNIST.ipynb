{
 "cells": [
  {
   "cell_type": "code",
   "execution_count": 1,
   "metadata": {},
   "outputs": [],
   "source": [
    "import warnings\n",
    "warnings.filterwarnings('ignore')"
   ]
  },
  {
   "cell_type": "markdown",
   "metadata": {},
   "source": [
    "# Prepare the Dataset"
   ]
  },
  {
   "cell_type": "code",
   "execution_count": 2,
   "metadata": {},
   "outputs": [],
   "source": [
    "dataset_name = 'MNIST'"
   ]
  },
  {
   "cell_type": "code",
   "execution_count": 3,
   "metadata": {
    "scrolled": true
   },
   "outputs": [
    {
     "name": "stderr",
     "output_type": "stream",
     "text": [
      "Using TensorFlow backend.\n"
     ]
    },
    {
     "name": "stdout",
     "output_type": "stream",
     "text": [
      "Dataset size (70000, 28, 28)\n"
     ]
    }
   ],
   "source": [
    "import numpy as np\n",
    "from keras.datasets import mnist\n",
    "(X, y), (X_test, y_test) = mnist.load_data()\n",
    "X = np.concatenate((X, X_test))\n",
    "y = np.concatenate((y, y_test))\n",
    "imgs = X\n",
    "del X_test\n",
    "del y_test\n",
    "\n",
    "print('Dataset size {}'.format(X.shape))\n"
   ]
  },
  {
   "cell_type": "markdown",
   "metadata": {},
   "source": [
    "# VAE"
   ]
  },
  {
   "cell_type": "code",
   "execution_count": 4,
   "metadata": {},
   "outputs": [],
   "source": [
    "%load_ext autoreload\n",
    "%autoreload 2"
   ]
  },
  {
   "cell_type": "code",
   "execution_count": 5,
   "metadata": {},
   "outputs": [],
   "source": [
    "model_name = 'VAE'"
   ]
  },
  {
   "cell_type": "code",
   "execution_count": 6,
   "metadata": {},
   "outputs": [],
   "source": [
    "from models.VAE import VAE"
   ]
  },
  {
   "cell_type": "code",
   "execution_count": 7,
   "metadata": {},
   "outputs": [],
   "source": [
    "ae = VAE(dataset_name, epochs=int(2e5), num_layers=3, latent_dim=10,\n",
    "        hidden_dim=500, l_rate=1e-4, batch_size=64, plot=True, clustering=True)"
   ]
  },
  {
   "cell_type": "code",
   "execution_count": 8,
   "metadata": {
    "scrolled": true
   },
   "outputs": [
    {
     "name": "stdout",
     "output_type": "stream",
     "text": [
      "\n",
      " Processing data...\n",
      "Scaling dataset\n",
      "Training dataset shape:  (56000, 28, 28, 3)\n",
      "Validation dataset shape:  (14000, 28, 28, 3)\n",
      "\n",
      " building a model...\n",
      "\n",
      "WARNING: The TensorFlow contrib module will not be included in TensorFlow 2.0.\n",
      "For more information, please see:\n",
      "  * https://github.com/tensorflow/community/blob/master/rfcs/20180907-contrib-sunset.md\n",
      "  * https://github.com/tensorflow/addons\n",
      "If you depend on functionality not listed there, please file an issue.\n",
      "\n",
      "WARNING:tensorflow:From C:\\ProgramData\\Anaconda34\\envs\\gpu_env\\lib\\site-packages\\tensorflow\\python\\framework\\op_def_library.py:263: colocate_with (from tensorflow.python.framework.ops) is deprecated and will be removed in a future version.\n",
      "Instructions for updating:\n",
      "Colocations handled automatically by placer.\n",
      "\n",
      "[*] Defining encoder...\n",
      "\n",
      "WARNING:tensorflow:From C:\\Users\\KhalidKahlootBME\\Documents\\projects\\Variational Autoencoders\\networks\\dense_net.py:68: dense (from tensorflow.python.layers.core) is deprecated and will be removed in a future version.\n",
      "Instructions for updating:\n",
      "Use keras.layers.dense instead.\n",
      "[*] Layer ( encoder_mean/dense_1/Relu:0 ) output shape: [64, 500]\n",
      "WARNING:tensorflow:From C:\\Users\\KhalidKahlootBME\\Documents\\projects\\Variational Autoencoders\\networks\\dense_net.py:83: dropout (from tensorflow.python.layers.core) is deprecated and will be removed in a future version.\n",
      "Instructions for updating:\n",
      "Use keras.layers.dropout instead.\n",
      "[*] Layer ( encoder_mean/dense_1_dropout/Identity:0 ) output shape: [64, 500]\n",
      "[*] Layer ( encoder_mean/dense_2/Relu:0 ) output shape: [64, 500]\n",
      "[*] Layer ( encoder_mean/dense_2_dropout/Identity:0 ) output shape: [64, 500]\n",
      "WARNING:tensorflow:From C:\\Users\\KhalidKahlootBME\\Documents\\projects\\Variational Autoencoders\\networks\\dense_net.py:74: batch_normalization (from tensorflow.python.layers.normalization) is deprecated and will be removed in a future version.\n",
      "Instructions for updating:\n",
      "Use keras.layers.batch_normalization instead.\n",
      "[*] Layer ( encoder_mean/H2_batch_norm/batchnorm/add_1:0 ) output shape: [64, 500]\n",
      "[*] Layer ( encoder_mean/dense_3/BiasAdd:0 ) output shape: [64, 10]\n",
      "\n",
      "[*] Layer ( encoder_var/dense_1/Relu:0 ) output shape: [64, 500]\n",
      "[*] Layer ( encoder_var/dense_1_dropout/Identity:0 ) output shape: [64, 500]\n",
      "[*] Layer ( encoder_var/dense_2/Relu:0 ) output shape: [64, 500]\n",
      "[*] Layer ( encoder_var/dense_2_dropout/Identity:0 ) output shape: [64, 500]\n",
      "[*] Layer ( encoder_var/H2_batch_norm/batchnorm/add_1:0 ) output shape: [64, 500]\n",
      "[*] Layer ( encoder_var/dense_3/Softplus:0 ) output shape: [64, 10]\n",
      "\n",
      "[*] Reparameterization trick...\n",
      "\n",
      "[*] Defining decoder...\n",
      "\n",
      "[*] Layer ( decoder_mean/dense_1/Relu:0 ) output shape: [64, 500]\n",
      "[*] Layer ( decoder_mean/dense_1_dropout/Identity:0 ) output shape: [64, 500]\n",
      "[*] Layer ( decoder_mean/dense_2/Relu:0 ) output shape: [64, 500]\n",
      "[*] Layer ( decoder_mean/dense_2_dropout/Identity:0 ) output shape: [64, 500]\n",
      "[*] Layer ( decoder_mean/H2_batch_norm/batchnorm/add_1:0 ) output shape: [64, 500]\n",
      "[*] Layer ( decoder_mean/dense_3/Sigmoid:0 ) output shape: [64, 2352]\n",
      "[*] Defining Loss Functions and Optimizer...\n",
      "WARNING:tensorflow:From C:\\ProgramData\\Anaconda34\\envs\\gpu_env\\lib\\site-packages\\tensorflow\\python\\ops\\math_ops.py:3066: to_int32 (from tensorflow.python.ops.math_ops) is deprecated and will be removed in a future version.\n",
      "Instructions for updating:\n",
      "Use tf.cast instead.\n",
      "building VAE Model...\n",
      "\n",
      "Number of trainable paramters 4301372\n",
      "\n",
      " training a model...\n",
      "Initizalizing Variables ...\n",
      "EPOCH:  0\n"
     ]
    },
    {
     "name": "stderr",
     "output_type": "stream",
     "text": [
      "100%|████████████████████████████████████████████████████████████████████████████████| 875/875 [00:22<00:00, 39.53it/s]\n",
      "100%|███████████████████████████████████████████████████████████████████████████████| 218/218 [00:01<00:00, 150.14it/s]\n"
     ]
    },
    {
     "name": "stdout",
     "output_type": "stream",
     "text": [
      "TRAIN | VAE Loss:  248596.95 AE Loss:  247791.98  | Recons:  247791.98\n",
      "      | KL-div:  804.9681  | L2_loss:  2745.445\n",
      "VALID | VAE Loss:  175561.83 AE Loss:  174691.69  | Recons:  174691.69\n",
      "      | KL-div:  870.1491  | L2_loss:  2783.3784\n",
      "EPOCH:  1\n"
     ]
    },
    {
     "name": "stderr",
     "output_type": "stream",
     "text": [
      "100%|████████████████████████████████████████████████████████████████████████████████| 875/875 [00:21<00:00, 40.38it/s]\n",
      "100%|███████████████████████████████████████████████████████████████████████████████| 218/218 [00:01<00:00, 150.61it/s]\n"
     ]
    },
    {
     "name": "stdout",
     "output_type": "stream",
     "text": [
      "TRAIN | VAE Loss:  163306.02 AE Loss:  162473.22  | Recons:  162473.22\n",
      "      | KL-div:  832.78815  | L2_loss:  2827.5618\n",
      "VALID | VAE Loss:  155650.08 AE Loss:  154833.33  | Recons:  154833.33\n",
      "      | KL-div:  816.7483  | L2_loss:  2867.3074\n",
      "Saving model...\n",
      "Model saved\n",
      "Generating W space ...\n",
      "Loading model checkpoint experiments//VAE_MNIST_latent_dim10_h_dim500_h_nl3_sigma0001\\-1750 ...\n",
      "\n",
      "WARNING:tensorflow:From C:\\ProgramData\\Anaconda34\\envs\\gpu_env\\lib\\site-packages\\tensorflow\\python\\training\\saver.py:1266: checkpoint_exists (from tensorflow.python.training.checkpoint_management) is deprecated and will be removed in a future version.\n",
      "Instructions for updating:\n",
      "Use standard file APIs to check for files with this prefix.\n",
      "INFO:tensorflow:Restoring parameters from experiments//VAE_MNIST_latent_dim10_h_dim500_h_nl3_sigma0001\\-1750\n",
      "Model loaded\n",
      "EPOCHS trained:  1\n"
     ]
    },
    {
     "name": "stderr",
     "output_type": "stream",
     "text": [
      "100%|███████████████████████████████████████████████████████████████████████████████| 875/875 [00:02<00:00, 355.13it/s]\n"
     ]
    },
    {
     "name": "stdout",
     "output_type": "stream",
     "text": [
      "W space dimensions: (56000, 2)\n",
      "Ploting W space ...\n",
      "data size (56000, 2)\n"
     ]
    },
    {
     "name": "stderr",
     "output_type": "stream",
     "text": [
      "100%|██████████████████████████████████████████████████████████████████████████| 56000/56000 [00:10<00:00, 5136.19it/s]\n"
     ]
    },
    {
     "name": "stdout",
     "output_type": "stream",
     "text": [
      "Saving Image experiments//VAE_MNIST_latent_dim10_h_dim500_h_nl3_sigma0001/VAE_MNIST_latent_dim10_h_dim500_h_nl3_sigma0001 W space in epoch 1.jpg ...\n",
      "W space dimensions: (56000, 3)\n",
      "Ploting W space ...\n",
      "data size (56000, 3)\n"
     ]
    },
    {
     "name": "stderr",
     "output_type": "stream",
     "text": [
      "100%|██████████████████████████████████████████████████████████████████████████████████| 10/10 [00:00<00:00, 78.94it/s]\n"
     ]
    },
    {
     "name": "stdout",
     "output_type": "stream",
     "text": [
      "Saving Image experiments//VAE_MNIST_latent_dim10_h_dim500_h_nl3_sigma0001/VAE_MNIST_latent_dim10_h_dim500_h_nl3_sigma0001 W space 3d in epoch 1.jpg ...\n",
      "Generating Samples ...\n",
      "Loading model checkpoint experiments//VAE_MNIST_latent_dim10_h_dim500_h_nl3_sigma0001\\-1750 ...\n",
      "\n",
      "INFO:tensorflow:Restoring parameters from experiments//VAE_MNIST_latent_dim10_h_dim500_h_nl3_sigma0001\\-1750\n",
      "Model loaded\n",
      "EPOCHS trained:  1\n"
     ]
    },
    {
     "name": "stderr",
     "output_type": "stream",
     "text": [
      "2it [00:00, 64.01it/s]                                                                                                 \n"
     ]
    },
    {
     "name": "stdout",
     "output_type": "stream",
     "text": [
      "Loading model checkpoint experiments//VAE_MNIST_latent_dim10_h_dim500_h_nl3_sigma0001\\-1750 ...\n",
      "\n",
      "INFO:tensorflow:Restoring parameters from experiments//VAE_MNIST_latent_dim10_h_dim500_h_nl3_sigma0001\\-1750\n",
      "Model loaded\n",
      "EPOCHS trained:  1\n"
     ]
    },
    {
     "name": "stderr",
     "output_type": "stream",
     "text": [
      "2it [00:00, 111.24it/s]                                                                                                \n"
     ]
    },
    {
     "name": "stdout",
     "output_type": "stream",
     "text": [
      "Saving Image  experiments//VAE_MNIST_latent_dim10_h_dim500_h_nl3_sigma0001/VAE_MNIST_latent_dim10_h_dim500_h_nl3_sigma0001 samples generation in epoch 1.jpg\n",
      "Generating W space ...\n",
      "Loading model checkpoint experiments//VAE_MNIST_latent_dim10_h_dim500_h_nl3_sigma0001\\-1750 ...\n",
      "\n",
      "INFO:tensorflow:Restoring parameters from experiments//VAE_MNIST_latent_dim10_h_dim500_h_nl3_sigma0001\\-1750\n",
      "Model loaded\n",
      "EPOCHS trained:  1\n"
     ]
    },
    {
     "name": "stderr",
     "output_type": "stream",
     "text": [
      "100%|███████████████████████████████████████████████████████████████████████████████| 875/875 [00:02<00:00, 358.27it/s]\n"
     ]
    },
    {
     "name": "stdout",
     "output_type": "stream",
     "text": [
      "Init 1/3 with method: k-means++\n",
      "Inertia for init 1/3: 175151.265625\n",
      "Init 2/3 with method: k-means++\n",
      "Inertia for init 2/3: 177344.718750\n",
      "Init 3/3 with method: k-means++\n",
      "Inertia for init 3/3: 176503.750000\n",
      "Minibatch iteration 1/56000: mean batch inertia: 614.925430, ewa inertia: 614.925430 \n",
      "Minibatch iteration 2/56000: mean batch inertia: 659.764844, ewa inertia: 615.085568 \n",
      "Minibatch iteration 3/56000: mean batch inertia: 607.503828, ewa inertia: 615.058490 \n",
      "Minibatch iteration 4/56000: mean batch inertia: 598.510078, ewa inertia: 614.999390 \n",
      "Minibatch iteration 5/56000: mean batch inertia: 547.204023, ewa inertia: 614.757268 \n",
      "Minibatch iteration 6/56000: mean batch inertia: 597.147461, ewa inertia: 614.694377 \n",
      "Minibatch iteration 7/56000: mean batch inertia: 580.113008, ewa inertia: 614.570874 \n",
      "Minibatch iteration 8/56000: mean batch inertia: 579.525352, ewa inertia: 614.445714 \n",
      "Minibatch iteration 9/56000: mean batch inertia: 596.433633, ewa inertia: 614.381386 \n",
      "Minibatch iteration 10/56000: mean batch inertia: 576.440586, ewa inertia: 614.245886 \n",
      "Minibatch iteration 11/56000: mean batch inertia: 550.060352, ewa inertia: 614.016656 \n",
      "Minibatch iteration 12/56000: mean batch inertia: 560.965898, ewa inertia: 613.827192 \n",
      "Minibatch iteration 13/56000: mean batch inertia: 557.083398, ewa inertia: 613.624539 \n",
      "Minibatch iteration 14/56000: mean batch inertia: 558.019766, ewa inertia: 613.425955 \n",
      "Minibatch iteration 15/56000: mean batch inertia: 561.467109, ewa inertia: 613.240391 \n",
      "Minibatch iteration 16/56000: mean batch inertia: 556.655820, ewa inertia: 613.038306 \n",
      "Minibatch iteration 17/56000: mean batch inertia: 497.018789, ewa inertia: 612.623958 \n",
      "Minibatch iteration 18/56000: mean batch inertia: 571.874766, ewa inertia: 612.478428 \n",
      "Minibatch iteration 19/56000: mean batch inertia: 571.536484, ewa inertia: 612.332210 \n",
      "Minibatch iteration 20/56000: mean batch inertia: 572.860117, ewa inertia: 612.191240 \n",
      "Minibatch iteration 21/56000: mean batch inertia: 605.706523, ewa inertia: 612.168081 \n",
      "Minibatch iteration 22/56000: mean batch inertia: 566.401328, ewa inertia: 612.004631 \n",
      "Minibatch iteration 23/56000: mean batch inertia: 584.616680, ewa inertia: 611.906819 \n",
      "Minibatch iteration 24/56000: mean batch inertia: 562.042070, ewa inertia: 611.728734 \n",
      "Minibatch iteration 25/56000: mean batch inertia: 508.159219, ewa inertia: 611.358849 \n",
      "Minibatch iteration 26/56000: mean batch inertia: 574.337773, ewa inertia: 611.226633 \n",
      "Minibatch iteration 27/56000: mean batch inertia: 581.060547, ewa inertia: 611.118899 \n",
      "Minibatch iteration 28/56000: mean batch inertia: 594.182461, ewa inertia: 611.058413 \n",
      "Minibatch iteration 29/56000: mean batch inertia: 559.624023, ewa inertia: 610.874722 \n",
      "Minibatch iteration 30/56000: mean batch inertia: 645.890898, ewa inertia: 610.999778 \n",
      "Minibatch iteration 31/56000: mean batch inertia: 610.727930, ewa inertia: 610.998807 \n",
      "Minibatch iteration 32/56000: mean batch inertia: 621.995625, ewa inertia: 611.038080 \n",
      "Minibatch iteration 33/56000: mean batch inertia: 564.842422, ewa inertia: 610.873099 \n",
      "Minibatch iteration 34/56000: mean batch inertia: 543.878086, ewa inertia: 610.633835 \n",
      "Minibatch iteration 35/56000: mean batch inertia: 577.183164, ewa inertia: 610.514371 \n",
      "Minibatch iteration 36/56000: mean batch inertia: 593.022969, ewa inertia: 610.451903 \n",
      "Minibatch iteration 37/56000: mean batch inertia: 565.012930, ewa inertia: 610.289623 \n",
      "Minibatch iteration 38/56000: mean batch inertia: 571.563477, ewa inertia: 610.151318 \n",
      "Minibatch iteration 39/56000: mean batch inertia: 536.481250, ewa inertia: 609.888215 \n",
      "Minibatch iteration 40/56000: mean batch inertia: 553.024648, ewa inertia: 609.685135 \n",
      "Minibatch iteration 41/56000: mean batch inertia: 523.277500, ewa inertia: 609.376542 \n",
      "Minibatch iteration 42/56000: mean batch inertia: 543.027812, ewa inertia: 609.139586 \n",
      "Minibatch iteration 43/56000: mean batch inertia: 571.553477, ewa inertia: 609.005353 \n",
      "Minibatch iteration 44/56000: mean batch inertia: 574.500430, ewa inertia: 608.882123 \n",
      "Minibatch iteration 45/56000: mean batch inertia: 575.330430, ewa inertia: 608.762298 \n",
      "Minibatch iteration 46/56000: mean batch inertia: 596.196289, ewa inertia: 608.717420 \n",
      "Minibatch iteration 47/56000: mean batch inertia: 545.600586, ewa inertia: 608.492006 \n",
      "Minibatch iteration 48/56000: mean batch inertia: 593.010000, ewa inertia: 608.436715 \n",
      "Minibatch iteration 49/56000: mean batch inertia: 527.986055, ewa inertia: 608.149396 \n",
      "Minibatch iteration 50/56000: mean batch inertia: 568.205938, ewa inertia: 608.006743 \n",
      "Minibatch iteration 51/56000: mean batch inertia: 572.714687, ewa inertia: 607.880702 \n",
      "Minibatch iteration 52/56000: mean batch inertia: 625.854805, ewa inertia: 607.944895 \n",
      "Minibatch iteration 53/56000: mean batch inertia: 601.017227, ewa inertia: 607.920153 \n",
      "Minibatch iteration 54/56000: mean batch inertia: 569.073242, ewa inertia: 607.781417 \n",
      "Minibatch iteration 55/56000: mean batch inertia: 579.767812, ewa inertia: 607.681370 \n",
      "Minibatch iteration 56/56000: mean batch inertia: 550.141758, ewa inertia: 607.475875 \n",
      "Minibatch iteration 57/56000: mean batch inertia: 571.217734, ewa inertia: 607.346384 \n",
      "Minibatch iteration 58/56000: mean batch inertia: 583.481992, ewa inertia: 607.261156 \n",
      "Minibatch iteration 59/56000: mean batch inertia: 579.901055, ewa inertia: 607.163443 \n",
      "Minibatch iteration 60/56000: mean batch inertia: 531.813984, ewa inertia: 606.894342 \n",
      "Minibatch iteration 61/56000: mean batch inertia: 572.026953, ewa inertia: 606.769818 \n",
      "Minibatch iteration 62/56000: mean batch inertia: 570.186836, ewa inertia: 606.639167 \n",
      "Minibatch iteration 63/56000: mean batch inertia: 562.470000, ewa inertia: 606.481423 \n",
      "Minibatch iteration 64/56000: mean batch inertia: 560.328555, ewa inertia: 606.316594 \n",
      "Minibatch iteration 65/56000: mean batch inertia: 522.167187, ewa inertia: 606.016066 \n",
      "Minibatch iteration 66/56000: mean batch inertia: 592.001328, ewa inertia: 605.966014 \n",
      "Minibatch iteration 67/56000: mean batch inertia: 524.038086, ewa inertia: 605.673420 \n",
      "Minibatch iteration 68/56000: mean batch inertia: 572.665000, ewa inertia: 605.555534 \n",
      "Minibatch iteration 69/56000: mean batch inertia: 565.809727, ewa inertia: 605.413588 \n",
      "Minibatch iteration 70/56000: mean batch inertia: 531.208086, ewa inertia: 605.148573 \n",
      "Minibatch iteration 71/56000: mean batch inertia: 557.793437, ewa inertia: 604.979450 \n",
      "Minibatch iteration 72/56000: mean batch inertia: 543.882539, ewa inertia: 604.761251 \n",
      "Minibatch iteration 73/56000: mean batch inertia: 624.175000, ewa inertia: 604.830584 \n",
      "Minibatch iteration 74/56000: mean batch inertia: 560.657344, ewa inertia: 604.672826 \n",
      "Minibatch iteration 75/56000: mean batch inertia: 586.755703, ewa inertia: 604.608837 \n",
      "Minibatch iteration 76/56000: mean batch inertia: 563.965781, ewa inertia: 604.463686 \n",
      "Minibatch iteration 77/56000: mean batch inertia: 602.532930, ewa inertia: 604.456791 \n",
      "Minibatch iteration 78/56000: mean batch inertia: 562.935117, ewa inertia: 604.308501 \n",
      "Minibatch iteration 79/56000: mean batch inertia: 545.223984, ewa inertia: 604.097489 \n",
      "Minibatch iteration 80/56000: mean batch inertia: 580.156133, ewa inertia: 604.011986 \n",
      "Minibatch iteration 81/56000: mean batch inertia: 577.475234, ewa inertia: 603.917213 \n",
      "Minibatch iteration 82/56000: mean batch inertia: 571.750703, ewa inertia: 603.802335 \n",
      "Minibatch iteration 83/56000: mean batch inertia: 574.755898, ewa inertia: 603.698600 \n",
      "Minibatch iteration 84/56000: mean batch inertia: 536.351953, ewa inertia: 603.458080 \n",
      "Minibatch iteration 85/56000: mean batch inertia: 586.432930, ewa inertia: 603.397277 \n",
      "Minibatch iteration 86/56000: mean batch inertia: 545.764688, ewa inertia: 603.191450 \n",
      "Minibatch iteration 87/56000: mean batch inertia: 526.322188, ewa inertia: 602.916922 \n",
      "Minibatch iteration 88/56000: mean batch inertia: 544.494258, ewa inertia: 602.708273 \n",
      "Minibatch iteration 89/56000: mean batch inertia: 570.625156, ewa inertia: 602.593693 \n",
      "Minibatch iteration 90/56000: mean batch inertia: 577.601094, ewa inertia: 602.504435 \n",
      "Minibatch iteration 91/56000: mean batch inertia: 522.420234, ewa inertia: 602.218425 \n"
     ]
    },
    {
     "name": "stdout",
     "output_type": "stream",
     "text": [
      "Minibatch iteration 92/56000: mean batch inertia: 540.286016, ewa inertia: 601.997242 \n",
      "Minibatch iteration 93/56000: mean batch inertia: 526.553086, ewa inertia: 601.727803 \n",
      "Minibatch iteration 94/56000: mean batch inertia: 615.913867, ewa inertia: 601.778467 \n",
      "Minibatch iteration 95/56000: mean batch inertia: 554.923086, ewa inertia: 601.611129 \n",
      "Minibatch iteration 96/56000: mean batch inertia: 581.574687, ewa inertia: 601.539572 \n",
      "Minibatch iteration 97/56000: mean batch inertia: 560.390586, ewa inertia: 601.392614 \n",
      "Minibatch iteration 98/56000: mean batch inertia: 531.951641, ewa inertia: 601.144615 \n",
      "Minibatch iteration 99/56000: mean batch inertia: 585.772266, ewa inertia: 601.089715 \n",
      "Minibatch iteration 100/56000: mean batch inertia: 549.121406, ewa inertia: 600.904117 \n",
      "Minibatch iteration 101/56000: mean batch inertia: 551.433750, ewa inertia: 600.727440 \n",
      "Minibatch iteration 102/56000: mean batch inertia: 590.125977, ewa inertia: 600.689578 \n",
      "Minibatch iteration 103/56000: mean batch inertia: 554.021289, ewa inertia: 600.522909 \n",
      "Minibatch iteration 104/56000: mean batch inertia: 545.773789, ewa inertia: 600.327380 \n",
      "Minibatch iteration 105/56000: mean batch inertia: 554.500195, ewa inertia: 600.163714 \n",
      "Minibatch iteration 106/56000: mean batch inertia: 541.583242, ewa inertia: 599.954502 \n",
      "Minibatch iteration 107/56000: mean batch inertia: 537.810508, ewa inertia: 599.732563 \n",
      "Minibatch iteration 108/56000: mean batch inertia: 572.390430, ewa inertia: 599.634914 \n",
      "Minibatch iteration 109/56000: mean batch inertia: 597.429648, ewa inertia: 599.627039 \n",
      "Minibatch iteration 110/56000: mean batch inertia: 555.438125, ewa inertia: 599.469224 \n",
      "Minibatch iteration 111/56000: mean batch inertia: 597.077461, ewa inertia: 599.460682 \n",
      "Minibatch iteration 112/56000: mean batch inertia: 544.695273, ewa inertia: 599.265095 \n",
      "Minibatch iteration 113/56000: mean batch inertia: 577.829102, ewa inertia: 599.188539 \n",
      "Minibatch iteration 114/56000: mean batch inertia: 571.347695, ewa inertia: 599.089109 \n",
      "Minibatch iteration 115/56000: mean batch inertia: 598.756641, ewa inertia: 599.087922 \n",
      "Minibatch iteration 116/56000: mean batch inertia: 572.175039, ewa inertia: 598.991806 \n",
      "Minibatch iteration 117/56000: mean batch inertia: 604.861992, ewa inertia: 599.012771 \n",
      "Minibatch iteration 118/56000: mean batch inertia: 553.482188, ewa inertia: 598.850164 \n",
      "Minibatch iteration 119/56000: mean batch inertia: 544.591797, ewa inertia: 598.656388 \n",
      "Minibatch iteration 120/56000: mean batch inertia: 609.060547, ewa inertia: 598.693545 \n",
      "Minibatch iteration 121/56000: mean batch inertia: 539.293750, ewa inertia: 598.481407 \n",
      "Minibatch iteration 122/56000: mean batch inertia: 535.696836, ewa inertia: 598.257180 \n",
      "Minibatch iteration 123/56000: mean batch inertia: 543.149453, ewa inertia: 598.060370 \n",
      "Minibatch iteration 124/56000: mean batch inertia: 589.629688, ewa inertia: 598.030261 \n",
      "Minibatch iteration 125/56000: mean batch inertia: 594.093359, ewa inertia: 598.016201 \n",
      "Minibatch iteration 126/56000: mean batch inertia: 574.684961, ewa inertia: 597.932877 \n",
      "Minibatch iteration 127/56000: mean batch inertia: 568.618125, ewa inertia: 597.828183 \n",
      "Minibatch iteration 128/56000: mean batch inertia: 545.086914, ewa inertia: 597.639825 \n",
      "Minibatch iteration 129/56000: mean batch inertia: 607.392305, ewa inertia: 597.674654 \n",
      "Minibatch iteration 130/56000: mean batch inertia: 543.832422, ewa inertia: 597.482364 \n",
      "Minibatch iteration 131/56000: mean batch inertia: 550.787148, ewa inertia: 597.315598 \n",
      "Minibatch iteration 132/56000: mean batch inertia: 559.606094, ewa inertia: 597.180924 \n",
      "Minibatch iteration 133/56000: mean batch inertia: 563.993281, ewa inertia: 597.062399 \n",
      "Minibatch iteration 134/56000: mean batch inertia: 527.888750, ewa inertia: 596.815355 \n",
      "Minibatch iteration 135/56000: mean batch inertia: 615.195781, ewa inertia: 596.880998 \n",
      "Minibatch iteration 136/56000: mean batch inertia: 563.189492, ewa inertia: 596.760673 \n",
      "Minibatch iteration 137/56000: mean batch inertia: 574.474766, ewa inertia: 596.681082 \n",
      "Minibatch iteration 138/56000: mean batch inertia: 568.169570, ewa inertia: 596.579257 \n",
      "Minibatch iteration 139/56000: mean batch inertia: 583.943203, ewa inertia: 596.534129 \n",
      "Minibatch iteration 140/56000: mean batch inertia: 563.988906, ewa inertia: 596.417898 \n",
      "Minibatch iteration 141/56000: mean batch inertia: 553.797812, ewa inertia: 596.265686 \n",
      "Minibatch iteration 142/56000: mean batch inertia: 564.605352, ewa inertia: 596.152616 \n",
      "Minibatch iteration 143/56000: mean batch inertia: 561.968359, ewa inertia: 596.030531 \n",
      "Minibatch iteration 144/56000: mean batch inertia: 580.460547, ewa inertia: 595.974925 \n",
      "Minibatch iteration 145/56000: mean batch inertia: 547.826563, ewa inertia: 595.802970 \n",
      "Minibatch iteration 146/56000: mean batch inertia: 529.673398, ewa inertia: 595.566797 \n",
      "Minibatch iteration 147/56000: mean batch inertia: 596.467695, ewa inertia: 595.570014 \n",
      "Minibatch iteration 148/56000: mean batch inertia: 592.972227, ewa inertia: 595.560737 \n",
      "Minibatch iteration 149/56000: mean batch inertia: 608.409219, ewa inertia: 595.606623 \n",
      "Minibatch iteration 150/56000: mean batch inertia: 574.738516, ewa inertia: 595.532096 \n",
      "Minibatch iteration 151/56000: mean batch inertia: 566.940586, ewa inertia: 595.429985 \n",
      "Minibatch iteration 152/56000: mean batch inertia: 602.872227, ewa inertia: 595.456564 \n",
      "Minibatch iteration 153/56000: mean batch inertia: 531.194492, ewa inertia: 595.227061 \n",
      "Minibatch iteration 154/56000: mean batch inertia: 574.583633, ewa inertia: 595.153335 \n",
      "Minibatch iteration 155/56000: mean batch inertia: 546.761328, ewa inertia: 594.980510 \n",
      "Minibatch iteration 156/56000: mean batch inertia: 538.861016, ewa inertia: 594.780087 \n",
      "Minibatch iteration 157/56000: mean batch inertia: 547.832617, ewa inertia: 594.612420 \n",
      "Minibatch iteration 158/56000: mean batch inertia: 532.530391, ewa inertia: 594.390703 \n",
      "Minibatch iteration 159/56000: mean batch inertia: 598.229687, ewa inertia: 594.404413 \n",
      "Minibatch iteration 160/56000: mean batch inertia: 549.919023, ewa inertia: 594.245539 \n",
      "Minibatch iteration 161/56000: mean batch inertia: 578.168047, ewa inertia: 594.188121 \n",
      "Minibatch iteration 162/56000: mean batch inertia: 550.676367, ewa inertia: 594.032725 \n",
      "Minibatch iteration 163/56000: mean batch inertia: 604.330117, ewa inertia: 594.069500 \n",
      "Minibatch iteration 164/56000: mean batch inertia: 605.392187, ewa inertia: 594.109938 \n",
      "Minibatch iteration 165/56000: mean batch inertia: 570.193281, ewa inertia: 594.024523 \n",
      "Minibatch iteration 166/56000: mean batch inertia: 577.926328, ewa inertia: 593.967030 \n",
      "Minibatch iteration 167/56000: mean batch inertia: 544.390859, ewa inertia: 593.789976 \n",
      "Minibatch iteration 168/56000: mean batch inertia: 562.282148, ewa inertia: 593.677450 \n",
      "Minibatch iteration 169/56000: mean batch inertia: 510.395938, ewa inertia: 593.380021 \n",
      "Minibatch iteration 170/56000: mean batch inertia: 531.041289, ewa inertia: 593.157387 \n",
      "Minibatch iteration 171/56000: mean batch inertia: 612.081523, ewa inertia: 593.224972 \n",
      "Minibatch iteration 172/56000: mean batch inertia: 570.302031, ewa inertia: 593.143105 \n",
      "Minibatch iteration 173/56000: mean batch inertia: 576.370586, ewa inertia: 593.083205 \n",
      "Minibatch iteration 174/56000: mean batch inertia: 609.308320, ewa inertia: 593.141150 \n",
      "Minibatch iteration 175/56000: mean batch inertia: 575.804102, ewa inertia: 593.079233 \n",
      "Minibatch iteration 176/56000: mean batch inertia: 576.016953, ewa inertia: 593.018298 \n",
      "Minibatch iteration 177/56000: mean batch inertia: 527.197500, ewa inertia: 592.783228 \n",
      "Minibatch iteration 178/56000: mean batch inertia: 575.693594, ewa inertia: 592.722194 \n",
      "Minibatch iteration 179/56000: mean batch inertia: 553.952266, ewa inertia: 592.583733 \n",
      "Minibatch iteration 180/56000: mean batch inertia: 506.426055, ewa inertia: 592.276032 \n",
      "Minibatch iteration 181/56000: mean batch inertia: 560.580703, ewa inertia: 592.162837 \n",
      "Minibatch iteration 182/56000: mean batch inertia: 526.987188, ewa inertia: 591.930071 \n",
      "Minibatch iteration 183/56000: mean batch inertia: 575.260430, ewa inertia: 591.870537 \n",
      "Minibatch iteration 184/56000: mean batch inertia: 601.177734, ewa inertia: 591.903777 \n"
     ]
    },
    {
     "name": "stdout",
     "output_type": "stream",
     "text": [
      "Minibatch iteration 185/56000: mean batch inertia: 558.516797, ewa inertia: 591.784540 \n",
      "Minibatch iteration 186/56000: mean batch inertia: 518.332773, ewa inertia: 591.522217 \n",
      "Minibatch iteration 187/56000: mean batch inertia: 519.110898, ewa inertia: 591.263609 \n",
      "Minibatch iteration 188/56000: mean batch inertia: 544.319922, ewa inertia: 591.095956 \n",
      "Minibatch iteration 189/56000: mean batch inertia: 543.578594, ewa inertia: 590.926255 \n",
      "Minibatch iteration 190/56000: mean batch inertia: 591.232148, ewa inertia: 590.927347 \n",
      "Minibatch iteration 191/56000: mean batch inertia: 558.353633, ewa inertia: 590.811014 \n",
      "Minibatch iteration 192/56000: mean batch inertia: 580.913164, ewa inertia: 590.775666 \n",
      "Minibatch iteration 193/56000: mean batch inertia: 548.448789, ewa inertia: 590.624501 \n",
      "Minibatch iteration 194/56000: mean batch inertia: 560.655430, ewa inertia: 590.517470 \n",
      "Minibatch iteration 195/56000: mean batch inertia: 535.604258, ewa inertia: 590.321355 \n",
      "Minibatch iteration 196/56000: mean batch inertia: 558.801602, ewa inertia: 590.208787 \n",
      "Minibatch iteration 197/56000: mean batch inertia: 525.538359, ewa inertia: 589.977825 \n",
      "Minibatch iteration 198/56000: mean batch inertia: 574.806992, ewa inertia: 589.923644 \n",
      "Minibatch iteration 199/56000: mean batch inertia: 546.418281, ewa inertia: 589.768271 \n",
      "Minibatch iteration 200/56000: mean batch inertia: 600.535664, ewa inertia: 589.806725 \n",
      "Minibatch iteration 201/56000: mean batch inertia: 539.153047, ewa inertia: 589.625822 \n",
      "Minibatch iteration 202/56000: mean batch inertia: 570.034531, ewa inertia: 589.555855 \n",
      "Minibatch iteration 203/56000: mean batch inertia: 513.345078, ewa inertia: 589.283678 \n",
      "Minibatch iteration 204/56000: mean batch inertia: 558.060156, ewa inertia: 589.172168 \n",
      "Minibatch iteration 205/56000: mean batch inertia: 617.243750, ewa inertia: 589.272422 \n",
      "Minibatch iteration 206/56000: mean batch inertia: 576.880664, ewa inertia: 589.228166 \n",
      "Minibatch iteration 207/56000: mean batch inertia: 553.867852, ewa inertia: 589.101882 \n",
      "Minibatch iteration 208/56000: mean batch inertia: 540.413359, ewa inertia: 588.927997 \n",
      "Minibatch iteration 209/56000: mean batch inertia: 537.411328, ewa inertia: 588.744012 \n",
      "Minibatch iteration 210/56000: mean batch inertia: 541.490703, ewa inertia: 588.575253 \n",
      "Minibatch iteration 211/56000: mean batch inertia: 567.844492, ewa inertia: 588.501216 \n",
      "Minibatch iteration 212/56000: mean batch inertia: 549.112969, ewa inertia: 588.360547 \n",
      "Minibatch iteration 213/56000: mean batch inertia: 533.574141, ewa inertia: 588.164884 \n",
      "Minibatch iteration 214/56000: mean batch inertia: 560.716953, ewa inertia: 588.066858 \n",
      "Minibatch iteration 215/56000: mean batch inertia: 519.301289, ewa inertia: 587.821271 \n",
      "Minibatch iteration 216/56000: mean batch inertia: 615.508867, ewa inertia: 587.920153 \n",
      "Minibatch iteration 217/56000: mean batch inertia: 583.398828, ewa inertia: 587.904006 \n",
      "Minibatch iteration 218/56000: mean batch inertia: 542.951875, ewa inertia: 587.743466 \n",
      "Minibatch iteration 219/56000: mean batch inertia: 522.283047, ewa inertia: 587.509682 \n",
      "Minibatch iteration 220/56000: mean batch inertia: 609.478242, ewa inertia: 587.588140 \n",
      "Minibatch iteration 221/56000: mean batch inertia: 552.420977, ewa inertia: 587.462545 \n",
      "Minibatch iteration 222/56000: mean batch inertia: 564.410938, ewa inertia: 587.380220 \n",
      "Minibatch iteration 223/56000: mean batch inertia: 561.002773, ewa inertia: 587.286016 \n",
      "Minibatch iteration 224/56000: mean batch inertia: 547.881797, ewa inertia: 587.145289 \n",
      "Minibatch iteration 225/56000: mean batch inertia: 611.942461, ewa inertia: 587.233849 \n",
      "Minibatch iteration 226/56000: mean batch inertia: 599.891211, ewa inertia: 587.279053 \n",
      "Minibatch iteration 227/56000: mean batch inertia: 559.994570, ewa inertia: 587.181610 \n",
      "Minibatch iteration 228/56000: mean batch inertia: 610.629414, ewa inertia: 587.265351 \n",
      "Minibatch iteration 229/56000: mean batch inertia: 567.181602, ewa inertia: 587.193625 \n",
      "Minibatch iteration 230/56000: mean batch inertia: 562.968594, ewa inertia: 587.107108 \n",
      "Minibatch iteration 231/56000: mean batch inertia: 588.646836, ewa inertia: 587.112607 \n",
      "Minibatch iteration 232/56000: mean batch inertia: 541.266133, ewa inertia: 586.948873 \n",
      "Minibatch iteration 233/56000: mean batch inertia: 545.119180, ewa inertia: 586.799484 \n",
      "Minibatch iteration 234/56000: mean batch inertia: 531.293398, ewa inertia: 586.601251 \n",
      "Minibatch iteration 235/56000: mean batch inertia: 555.048633, ewa inertia: 586.488565 \n",
      "Minibatch iteration 236/56000: mean batch inertia: 545.085977, ewa inertia: 586.340701 \n",
      "Minibatch iteration 237/56000: mean batch inertia: 596.604883, ewa inertia: 586.377359 \n",
      "Minibatch iteration 238/56000: mean batch inertia: 554.057422, ewa inertia: 586.261932 \n",
      "Minibatch iteration 239/56000: mean batch inertia: 547.941836, ewa inertia: 586.125077 \n",
      "Minibatch iteration 240/56000: mean batch inertia: 590.356445, ewa inertia: 586.140189 \n",
      "Minibatch iteration 241/56000: mean batch inertia: 595.846250, ewa inertia: 586.174853 \n",
      "Minibatch iteration 242/56000: mean batch inertia: 555.575156, ewa inertia: 586.065570 \n",
      "Minibatch iteration 243/56000: mean batch inertia: 569.809102, ewa inertia: 586.007512 \n",
      "Minibatch iteration 244/56000: mean batch inertia: 580.800469, ewa inertia: 585.988916 \n",
      "Minibatch iteration 245/56000: mean batch inertia: 565.913203, ewa inertia: 585.917218 \n",
      "Minibatch iteration 246/56000: mean batch inertia: 544.817461, ewa inertia: 585.770436 \n",
      "Minibatch iteration 247/56000: mean batch inertia: 566.948203, ewa inertia: 585.703215 \n",
      "Minibatch iteration 248/56000: mean batch inertia: 593.890937, ewa inertia: 585.732457 \n",
      "Minibatch iteration 249/56000: mean batch inertia: 619.726797, ewa inertia: 585.853863 \n",
      "Minibatch iteration 250/56000: mean batch inertia: 557.821758, ewa inertia: 585.753750 \n",
      "Minibatch iteration 251/56000: mean batch inertia: 569.456992, ewa inertia: 585.695548 \n",
      "Minibatch iteration 252/56000: mean batch inertia: 595.749297, ewa inertia: 585.731454 \n",
      "Minibatch iteration 253/56000: mean batch inertia: 528.667070, ewa inertia: 585.527656 \n",
      "Minibatch iteration 254/56000: mean batch inertia: 543.864570, ewa inertia: 585.378862 \n",
      "Minibatch iteration 255/56000: mean batch inertia: 522.959492, ewa inertia: 585.155940 \n",
      "Minibatch iteration 256/56000: mean batch inertia: 567.410703, ewa inertia: 585.092565 \n",
      "Minibatch iteration 257/56000: mean batch inertia: 595.342383, ewa inertia: 585.129171 \n",
      "Minibatch iteration 258/56000: mean batch inertia: 581.397852, ewa inertia: 585.115845 \n",
      "Minibatch iteration 259/56000: mean batch inertia: 594.802930, ewa inertia: 585.150441 \n",
      "Minibatch iteration 260/56000: mean batch inertia: 558.481367, ewa inertia: 585.055196 \n",
      "Minibatch iteration 261/56000: mean batch inertia: 529.984883, ewa inertia: 584.858520 \n",
      "Minibatch iteration 262/56000: mean batch inertia: 582.165039, ewa inertia: 584.848900 \n",
      "Minibatch iteration 263/56000: mean batch inertia: 580.635703, ewa inertia: 584.833854 \n",
      "Minibatch iteration 264/56000: mean batch inertia: 588.175977, ewa inertia: 584.845790 \n",
      "Minibatch iteration 265/56000: mean batch inertia: 570.539297, ewa inertia: 584.794696 \n",
      "Minibatch iteration 266/56000: mean batch inertia: 576.352734, ewa inertia: 584.764546 \n",
      "Minibatch iteration 267/56000: mean batch inertia: 520.059297, ewa inertia: 584.533460 \n",
      "Minibatch iteration 268/56000: mean batch inertia: 594.990547, ewa inertia: 584.570806 \n",
      "Minibatch iteration 269/56000: mean batch inertia: 523.221523, ewa inertia: 584.351706 \n",
      "Minibatch iteration 270/56000: mean batch inertia: 593.644688, ewa inertia: 584.384894 \n",
      "Minibatch iteration 271/56000: mean batch inertia: 567.734141, ewa inertia: 584.325429 \n",
      "Minibatch iteration 272/56000: mean batch inertia: 576.153437, ewa inertia: 584.296243 \n",
      "Minibatch iteration 273/56000: mean batch inertia: 533.183164, ewa inertia: 584.113700 \n",
      "Minibatch iteration 274/56000: mean batch inertia: 550.709297, ewa inertia: 583.994401 \n",
      "Minibatch iteration 275/56000: mean batch inertia: 500.812930, ewa inertia: 583.697329 \n",
      "Minibatch iteration 276/56000: mean batch inertia: 609.130234, ewa inertia: 583.788159 \n",
      "Minibatch iteration 277/56000: mean batch inertia: 531.244922, ewa inertia: 583.600508 \n"
     ]
    },
    {
     "name": "stdout",
     "output_type": "stream",
     "text": [
      "Minibatch iteration 278/56000: mean batch inertia: 541.270742, ewa inertia: 583.449333 \n",
      "Minibatch iteration 279/56000: mean batch inertia: 584.050977, ewa inertia: 583.451482 \n",
      "Minibatch iteration 280/56000: mean batch inertia: 538.701953, ewa inertia: 583.291665 \n",
      "Minibatch iteration 281/56000: mean batch inertia: 563.213281, ewa inertia: 583.219958 \n",
      "Minibatch iteration 282/56000: mean batch inertia: 525.768359, ewa inertia: 583.014777 \n",
      "Minibatch iteration 283/56000: mean batch inertia: 550.454609, ewa inertia: 582.898493 \n",
      "Minibatch iteration 284/56000: mean batch inertia: 542.840664, ewa inertia: 582.755432 \n",
      "Minibatch iteration 285/56000: mean batch inertia: 557.286523, ewa inertia: 582.664473 \n",
      "Minibatch iteration 286/56000: mean batch inertia: 560.500312, ewa inertia: 582.585317 \n",
      "Minibatch iteration 287/56000: mean batch inertia: 559.727461, ewa inertia: 582.503683 \n",
      "Minibatch iteration 288/56000: mean batch inertia: 569.608125, ewa inertia: 582.457628 \n",
      "Minibatch iteration 289/56000: mean batch inertia: 576.961641, ewa inertia: 582.438000 \n",
      "Minibatch iteration 290/56000: mean batch inertia: 545.322422, ewa inertia: 582.305447 \n",
      "Minibatch iteration 291/56000: mean batch inertia: 569.784063, ewa inertia: 582.260728 \n",
      "Minibatch iteration 292/56000: mean batch inertia: 559.236250, ewa inertia: 582.178500 \n",
      "Minibatch iteration 293/56000: mean batch inertia: 512.477578, ewa inertia: 581.929572 \n",
      "Minibatch iteration 294/56000: mean batch inertia: 612.088594, ewa inertia: 582.037281 \n",
      "Minibatch iteration 295/56000: mean batch inertia: 572.932188, ewa inertia: 582.004764 \n",
      "Minibatch iteration 296/56000: mean batch inertia: 560.384531, ewa inertia: 581.927550 \n",
      "Minibatch iteration 297/56000: mean batch inertia: 569.229883, ewa inertia: 581.882202 \n",
      "Minibatch iteration 298/56000: mean batch inertia: 545.982461, ewa inertia: 581.753991 \n",
      "Minibatch iteration 299/56000: mean batch inertia: 595.500547, ewa inertia: 581.803085 \n",
      "Minibatch iteration 300/56000: mean batch inertia: 553.248320, ewa inertia: 581.701105 \n",
      "Minibatch iteration 301/56000: mean batch inertia: 567.615898, ewa inertia: 581.650802 \n",
      "Minibatch iteration 302/56000: mean batch inertia: 534.083359, ewa inertia: 581.480921 \n",
      "Minibatch iteration 303/56000: mean batch inertia: 567.382656, ewa inertia: 581.430571 \n",
      "Minibatch iteration 304/56000: mean batch inertia: 533.135547, ewa inertia: 581.258092 \n",
      "Minibatch iteration 305/56000: mean batch inertia: 550.580547, ewa inertia: 581.148531 \n",
      "Minibatch iteration 306/56000: mean batch inertia: 548.308789, ewa inertia: 581.031248 \n",
      "Minibatch iteration 307/56000: mean batch inertia: 518.364453, ewa inertia: 580.807442 \n",
      "Minibatch iteration 308/56000: mean batch inertia: 560.298203, ewa inertia: 580.734197 \n",
      "Minibatch iteration 309/56000: mean batch inertia: 595.308984, ewa inertia: 580.786248 \n",
      "Minibatch iteration 310/56000: mean batch inertia: 528.331094, ewa inertia: 580.598912 \n",
      "Minibatch iteration 311/56000: mean batch inertia: 614.551719, ewa inertia: 580.720170 \n",
      "Minibatch iteration 312/56000: mean batch inertia: 512.982344, ewa inertia: 580.478253 \n",
      "Minibatch iteration 313/56000: mean batch inertia: 606.683711, ewa inertia: 580.571843 \n",
      "Minibatch iteration 314/56000: mean batch inertia: 576.060313, ewa inertia: 580.555730 \n",
      "Minibatch iteration 315/56000: mean batch inertia: 538.755000, ewa inertia: 580.406445 \n",
      "Minibatch iteration 316/56000: mean batch inertia: 536.205781, ewa inertia: 580.248588 \n",
      "Minibatch iteration 317/56000: mean batch inertia: 558.811523, ewa inertia: 580.172028 \n",
      "Minibatch iteration 318/56000: mean batch inertia: 587.508008, ewa inertia: 580.198228 \n",
      "Minibatch iteration 319/56000: mean batch inertia: 551.806758, ewa inertia: 580.096831 \n",
      "Minibatch iteration 320/56000: mean batch inertia: 531.984961, ewa inertia: 579.925006 \n",
      "Minibatch iteration 321/56000: mean batch inertia: 535.913672, ewa inertia: 579.767826 \n",
      "Minibatch iteration 322/56000: mean batch inertia: 618.490742, ewa inertia: 579.906120 \n",
      "Minibatch iteration 323/56000: mean batch inertia: 559.041914, ewa inertia: 579.831606 \n",
      "Minibatch iteration 324/56000: mean batch inertia: 584.988477, ewa inertia: 579.850023 \n",
      "Minibatch iteration 325/56000: mean batch inertia: 572.483086, ewa inertia: 579.823713 \n",
      "Minibatch iteration 326/56000: mean batch inertia: 553.302461, ewa inertia: 579.728996 \n",
      "Minibatch iteration 327/56000: mean batch inertia: 567.974219, ewa inertia: 579.687015 \n",
      "Minibatch iteration 328/56000: mean batch inertia: 551.785352, ewa inertia: 579.587368 \n",
      "Minibatch iteration 329/56000: mean batch inertia: 583.010000, ewa inertia: 579.599592 \n",
      "Minibatch iteration 330/56000: mean batch inertia: 577.062383, ewa inertia: 579.590530 \n",
      "Minibatch iteration 331/56000: mean batch inertia: 568.430039, ewa inertia: 579.550672 \n",
      "Minibatch iteration 332/56000: mean batch inertia: 551.016641, ewa inertia: 579.448767 \n",
      "Minibatch iteration 333/56000: mean batch inertia: 523.811836, ewa inertia: 579.250067 \n",
      "Minibatch iteration 334/56000: mean batch inertia: 535.949883, ewa inertia: 579.095426 \n",
      "Minibatch iteration 335/56000: mean batch inertia: 545.077500, ewa inertia: 578.973936 \n",
      "Minibatch iteration 336/56000: mean batch inertia: 527.576719, ewa inertia: 578.790378 \n",
      "Minibatch iteration 337/56000: mean batch inertia: 599.038906, ewa inertia: 578.862692 \n",
      "Minibatch iteration 338/56000: mean batch inertia: 555.291250, ewa inertia: 578.778510 \n",
      "Minibatch iteration 339/56000: mean batch inertia: 600.412891, ewa inertia: 578.855775 \n",
      "Minibatch iteration 340/56000: mean batch inertia: 594.121562, ewa inertia: 578.910294 \n",
      "Minibatch iteration 341/56000: mean batch inertia: 567.700625, ewa inertia: 578.870260 \n",
      "Minibatch iteration 342/56000: mean batch inertia: 526.518867, ewa inertia: 578.683294 \n",
      "Minibatch iteration 343/56000: mean batch inertia: 570.430352, ewa inertia: 578.653820 \n",
      "Minibatch iteration 344/56000: mean batch inertia: 583.126367, ewa inertia: 578.669793 \n",
      "Minibatch iteration 345/56000: mean batch inertia: 570.976250, ewa inertia: 578.642317 \n",
      "Minibatch iteration 346/56000: mean batch inertia: 582.720117, ewa inertia: 578.656880 \n",
      "Minibatch iteration 347/56000: mean batch inertia: 584.418672, ewa inertia: 578.677458 \n",
      "Minibatch iteration 348/56000: mean batch inertia: 583.663320, ewa inertia: 578.695264 \n",
      "Minibatch iteration 349/56000: mean batch inertia: 583.844141, ewa inertia: 578.713652 \n",
      "Minibatch iteration 350/56000: mean batch inertia: 577.299141, ewa inertia: 578.708601 \n",
      "Minibatch iteration 351/56000: mean batch inertia: 530.641953, ewa inertia: 578.536937 \n",
      "Minibatch iteration 352/56000: mean batch inertia: 596.088711, ewa inertia: 578.599621 \n",
      "Minibatch iteration 353/56000: mean batch inertia: 494.339375, ewa inertia: 578.298697 \n",
      "Minibatch iteration 354/56000: mean batch inertia: 561.038984, ewa inertia: 578.237056 \n",
      "Minibatch iteration 355/56000: mean batch inertia: 569.988125, ewa inertia: 578.207596 \n",
      "Minibatch iteration 356/56000: mean batch inertia: 581.087930, ewa inertia: 578.217883 \n",
      "Minibatch iteration 357/56000: mean batch inertia: 544.021211, ewa inertia: 578.095754 \n",
      "Minibatch iteration 358/56000: mean batch inertia: 586.979805, ewa inertia: 578.127482 \n",
      "Minibatch iteration 359/56000: mean batch inertia: 607.344766, ewa inertia: 578.231828 \n",
      "Minibatch iteration 360/56000: mean batch inertia: 573.646328, ewa inertia: 578.215451 \n",
      "Minibatch iteration 361/56000: mean batch inertia: 568.767500, ewa inertia: 578.181709 \n",
      "Minibatch iteration 362/56000: mean batch inertia: 532.402148, ewa inertia: 578.018214 \n",
      "Minibatch iteration 363/56000: mean batch inertia: 584.384688, ewa inertia: 578.040951 \n",
      "Minibatch iteration 364/56000: mean batch inertia: 567.215352, ewa inertia: 578.002289 \n",
      "Minibatch iteration 365/56000: mean batch inertia: 556.621172, ewa inertia: 577.925929 \n",
      "Minibatch iteration 366/56000: mean batch inertia: 538.176992, ewa inertia: 577.783971 \n",
      "Minibatch iteration 367/56000: mean batch inertia: 555.655313, ewa inertia: 577.704941 \n",
      "Minibatch iteration 368/56000: mean batch inertia: 546.576992, ewa inertia: 577.593772 \n",
      "Minibatch iteration 369/56000: mean batch inertia: 543.915430, ewa inertia: 577.473495 \n",
      "Minibatch iteration 370/56000: mean batch inertia: 600.753906, ewa inertia: 577.556637 \n"
     ]
    },
    {
     "name": "stdout",
     "output_type": "stream",
     "text": [
      "Minibatch iteration 371/56000: mean batch inertia: 585.298242, ewa inertia: 577.584285 \n",
      "Minibatch iteration 372/56000: mean batch inertia: 568.572422, ewa inertia: 577.552101 \n",
      "Minibatch iteration 373/56000: mean batch inertia: 569.049727, ewa inertia: 577.521736 \n",
      "Minibatch iteration 374/56000: mean batch inertia: 563.607969, ewa inertia: 577.472045 \n",
      "Minibatch iteration 375/56000: mean batch inertia: 543.293633, ewa inertia: 577.349981 \n",
      "Minibatch iteration 376/56000: mean batch inertia: 575.941484, ewa inertia: 577.344951 \n",
      "Minibatch iteration 377/56000: mean batch inertia: 579.331914, ewa inertia: 577.352047 \n",
      "Minibatch iteration 378/56000: mean batch inertia: 578.638906, ewa inertia: 577.356643 \n",
      "Minibatch iteration 379/56000: mean batch inertia: 537.738984, ewa inertia: 577.215154 \n",
      "Minibatch iteration 380/56000: mean batch inertia: 543.201563, ewa inertia: 577.093679 \n",
      "Minibatch iteration 381/56000: mean batch inertia: 598.660625, ewa inertia: 577.170702 \n",
      "Minibatch iteration 382/56000: mean batch inertia: 541.711250, ewa inertia: 577.044064 \n",
      "Minibatch iteration 383/56000: mean batch inertia: 555.053281, ewa inertia: 576.965526 \n",
      "Minibatch iteration 384/56000: mean batch inertia: 587.732891, ewa inertia: 577.003981 \n",
      "Minibatch iteration 385/56000: mean batch inertia: 613.249805, ewa inertia: 577.133428 \n",
      "Minibatch iteration 386/56000: mean batch inertia: 589.901406, ewa inertia: 577.179027 \n",
      "Minibatch iteration 387/56000: mean batch inertia: 549.402500, ewa inertia: 577.079827 \n",
      "Minibatch iteration 388/56000: mean batch inertia: 583.433828, ewa inertia: 577.102519 \n",
      "Minibatch iteration 389/56000: mean batch inertia: 614.889609, ewa inertia: 577.237471 \n",
      "Minibatch iteration 390/56000: mean batch inertia: 572.789180, ewa inertia: 577.221584 \n",
      "Minibatch iteration 391/56000: mean batch inertia: 591.772891, ewa inertia: 577.273552 \n",
      "Minibatch iteration 392/56000: mean batch inertia: 562.765703, ewa inertia: 577.221739 \n",
      "Minibatch iteration 393/56000: mean batch inertia: 532.531836, ewa inertia: 577.062135 \n",
      "Converged (lack of improvement in inertia) at iteration 393/56000\n",
      "Computing label assignment and total inertia\n",
      "Loading model checkpoint experiments//VAE_MNIST_latent_dim10_h_dim500_h_nl3_sigma0001\\-1750 ...\n",
      "\n",
      "INFO:tensorflow:Restoring parameters from experiments//VAE_MNIST_latent_dim10_h_dim500_h_nl3_sigma0001\\-1750\n",
      "Model loaded\n",
      "EPOCHS trained:  1\n"
     ]
    },
    {
     "name": "stderr",
     "output_type": "stream",
     "text": [
      "219it [00:00, 335.43it/s]                                                                                              \n"
     ]
    },
    {
     "name": "stdout",
     "output_type": "stream",
     "text": [
      "Init 1/3 with method: k-means++\n",
      "Inertia for init 1/3: 171329.375000\n",
      "Init 2/3 with method: k-means++\n",
      "Inertia for init 2/3: 182359.437500\n",
      "Init 3/3 with method: k-means++\n",
      "Inertia for init 3/3: 176054.906250\n",
      "Minibatch iteration 1/14000: mean batch inertia: 589.867109, ewa inertia: 589.867109 \n",
      "Minibatch iteration 2/14000: mean batch inertia: 619.841836, ewa inertia: 590.295289 \n",
      "Minibatch iteration 3/14000: mean batch inertia: 617.965000, ewa inertia: 590.690543 \n",
      "Minibatch iteration 4/14000: mean batch inertia: 596.764688, ewa inertia: 590.777310 \n",
      "Minibatch iteration 5/14000: mean batch inertia: 571.046133, ewa inertia: 590.495456 \n",
      "Minibatch iteration 6/14000: mean batch inertia: 593.719687, ewa inertia: 590.541513 \n",
      "Minibatch iteration 7/14000: mean batch inertia: 551.678047, ewa inertia: 589.986360 \n",
      "Minibatch iteration 8/14000: mean batch inertia: 645.593398, ewa inertia: 590.780690 \n",
      "Minibatch iteration 9/14000: mean batch inertia: 589.665703, ewa inertia: 590.764763 \n",
      "Minibatch iteration 10/14000: mean batch inertia: 561.239063, ewa inertia: 590.342997 \n",
      "Minibatch iteration 11/14000: mean batch inertia: 589.841914, ewa inertia: 590.335839 \n",
      "Converged (lack of improvement in inertia) at iteration 11/14000\n",
      "Computing label assignment and total inertia\n",
      "TRAIN | kmeans Clustering Acc:  0.012339285714285714\n",
      "VALID | kmeans Clustering Acc:  0.09035714285714286\n",
      "Loading model checkpoint experiments//VAE_MNIST_latent_dim10_h_dim500_h_nl3_sigma0001\\-1750 ...\n",
      "\n",
      "INFO:tensorflow:Restoring parameters from experiments//VAE_MNIST_latent_dim10_h_dim500_h_nl3_sigma0001\\-1750\n",
      "Model loaded\n",
      "EPOCHS trained:  1\n"
     ]
    },
    {
     "name": "stderr",
     "output_type": "stream",
     "text": [
      "100%|███████████████████████████████████████████████████████████████████████████████| 875/875 [00:02<00:00, 339.01it/s]\n",
      "C:\\ProgramData\\Anaconda34\\envs\\gpu_env\\lib\\site-packages\\sklearn\\externals\\joblib\\parallel.py:268: DeprecationWarning: check_pickle is deprecated in joblib 0.12 and will be removed in 0.13\n",
      "  ' removed in 0.13', DeprecationWarning)\n",
      "C:\\ProgramData\\Anaconda34\\envs\\gpu_env\\lib\\site-packages\\sklearn\\externals\\joblib\\parallel.py:268: DeprecationWarning: check_pickle is deprecated in joblib 0.12 and will be removed in 0.13\n",
      "  ' removed in 0.13', DeprecationWarning)\n",
      "C:\\ProgramData\\Anaconda34\\envs\\gpu_env\\lib\\site-packages\\sklearn\\externals\\joblib\\parallel.py:268: DeprecationWarning: check_pickle is deprecated in joblib 0.12 and will be removed in 0.13\n",
      "  ' removed in 0.13', DeprecationWarning)\n",
      "C:\\ProgramData\\Anaconda34\\envs\\gpu_env\\lib\\site-packages\\sklearn\\externals\\joblib\\parallel.py:268: DeprecationWarning: check_pickle is deprecated in joblib 0.12 and will be removed in 0.13\n",
      "  ' removed in 0.13', DeprecationWarning)\n"
     ]
    },
    {
     "name": "stdout",
     "output_type": "stream",
     "text": [
      "Loading model checkpoint experiments//VAE_MNIST_latent_dim10_h_dim500_h_nl3_sigma0001\\-1750 ...\n",
      "\n",
      "INFO:tensorflow:Restoring parameters from experiments//VAE_MNIST_latent_dim10_h_dim500_h_nl3_sigma0001\\-1750\n",
      "Model loaded\n",
      "EPOCHS trained:  1\n"
     ]
    },
    {
     "name": "stderr",
     "output_type": "stream",
     "text": [
      "219it [00:00, 329.09it/s]                                                                                              \n"
     ]
    },
    {
     "name": "stdout",
     "output_type": "stream",
     "text": [
      "TRAIN | hdbscan Clustering Acc:  0.029035714285714286\n",
      "VALID | hdbscan Clustering Acc:  0.031642857142857146\n",
      "EPOCH:  2\n"
     ]
    },
    {
     "name": "stderr",
     "output_type": "stream",
     "text": [
      "100%|████████████████████████████████████████████████████████████████████████████████| 875/875 [00:21<00:00, 39.88it/s]\n",
      "100%|███████████████████████████████████████████████████████████████████████████████| 218/218 [00:01<00:00, 146.98it/s]\n"
     ]
    },
    {
     "name": "stdout",
     "output_type": "stream",
     "text": [
      "TRAIN | VAE Loss:  151036.62 AE Loss:  150230.69  | Recons:  150230.69\n",
      "      | KL-div:  805.93243  | L2_loss:  2901.8818\n",
      "VALID | VAE Loss:  147428.22 AE Loss:  146631.44  | Recons:  146631.44\n",
      "      | KL-div:  796.7824  | L2_loss:  2936.118\n",
      "EPOCH:  3\n"
     ]
    },
    {
     "name": "stderr",
     "output_type": "stream",
     "text": [
      " 27%|█████████████████████▎                                                          | 233/875 [00:06<00:16, 37.92it/s]"
     ]
    },
    {
     "ename": "KeyboardInterrupt",
     "evalue": "",
     "output_type": "error",
     "traceback": [
      "\u001b[1;31m---------------------------------------------------------------------------\u001b[0m",
      "\u001b[1;31mKeyboardInterrupt\u001b[0m                         Traceback (most recent call last)",
      "\u001b[1;32m<ipython-input-8-fa44c05cb94b>\u001b[0m in \u001b[0;36m<module>\u001b[1;34m\u001b[0m\n\u001b[1;32m----> 1\u001b[1;33m \u001b[0mae\u001b[0m\u001b[1;33m.\u001b[0m\u001b[0mfit\u001b[0m\u001b[1;33m(\u001b[0m\u001b[0mX\u001b[0m\u001b[1;33m,\u001b[0m\u001b[0my\u001b[0m\u001b[1;33m)\u001b[0m\u001b[1;33m\u001b[0m\u001b[1;33m\u001b[0m\u001b[0m\n\u001b[0m",
      "\u001b[1;32m~\\Documents\\projects\\Variational Autoencoders\\models\\AE_BASE.py\u001b[0m in \u001b[0;36mfit\u001b[1;34m(self, X, y)\u001b[0m\n\u001b[0;32m    106\u001b[0m         \u001b[1;32mif\u001b[0m\u001b[1;33m(\u001b[0m\u001b[0mself\u001b[0m\u001b[1;33m.\u001b[0m\u001b[0mflags\u001b[0m\u001b[1;33m.\u001b[0m\u001b[0mtrain\u001b[0m\u001b[1;33m)\u001b[0m\u001b[1;33m:\u001b[0m\u001b[1;33m\u001b[0m\u001b[1;33m\u001b[0m\u001b[0m\n\u001b[0;32m    107\u001b[0m             \u001b[0mprint\u001b[0m\u001b[1;33m(\u001b[0m\u001b[1;34m'\\n training a model...'\u001b[0m\u001b[1;33m)\u001b[0m\u001b[1;33m\u001b[0m\u001b[1;33m\u001b[0m\u001b[0m\n\u001b[1;32m--> 108\u001b[1;33m             \u001b[0mself\u001b[0m\u001b[1;33m.\u001b[0m\u001b[0mmodel\u001b[0m\u001b[1;33m.\u001b[0m\u001b[0mtrain\u001b[0m\u001b[1;33m(\u001b[0m\u001b[0mself\u001b[0m\u001b[1;33m.\u001b[0m\u001b[0mdata_train\u001b[0m\u001b[1;33m,\u001b[0m \u001b[0mself\u001b[0m\u001b[1;33m.\u001b[0m\u001b[0mdata_valid\u001b[0m\u001b[1;33m,\u001b[0m \u001b[0menable_es\u001b[0m\u001b[1;33m=\u001b[0m\u001b[0mself\u001b[0m\u001b[1;33m.\u001b[0m\u001b[0mflags\u001b[0m\u001b[1;33m.\u001b[0m\u001b[0mearly_stopping\u001b[0m\u001b[1;33m)\u001b[0m\u001b[1;33m\u001b[0m\u001b[1;33m\u001b[0m\u001b[0m\n\u001b[0m\u001b[0;32m    109\u001b[0m \u001b[1;33m\u001b[0m\u001b[0m\n\u001b[0;32m    110\u001b[0m \u001b[1;33m\u001b[0m\u001b[0m\n",
      "\u001b[1;32m~\\Documents\\projects\\Variational Autoencoders\\Alg_VAE\\VAE_model.py\u001b[0m in \u001b[0;36mtrain\u001b[1;34m(self, data_train, data_valid, enable_es)\u001b[0m\n\u001b[0;32m    183\u001b[0m                 \u001b[0mself\u001b[0m\u001b[1;33m.\u001b[0m\u001b[0mcurrent_epoch\u001b[0m \u001b[1;33m=\u001b[0m \u001b[0mcur_epoch\u001b[0m\u001b[1;33m\u001b[0m\u001b[1;33m\u001b[0m\u001b[0m\n\u001b[0;32m    184\u001b[0m \u001b[1;33m\u001b[0m\u001b[0m\n\u001b[1;32m--> 185\u001b[1;33m                 \u001b[0mvae_tr\u001b[0m\u001b[1;33m,\u001b[0m \u001b[0mae_tr\u001b[0m\u001b[1;33m,\u001b[0m \u001b[0mrecons_tr\u001b[0m\u001b[1;33m,\u001b[0m \u001b[0mkl_tr\u001b[0m\u001b[1;33m,\u001b[0m \u001b[0mL2_loss_tr\u001b[0m \u001b[1;33m=\u001b[0m \u001b[0mself\u001b[0m\u001b[1;33m.\u001b[0m\u001b[0mtrain_epoch\u001b[0m\u001b[1;33m(\u001b[0m\u001b[0msession\u001b[0m\u001b[1;33m,\u001b[0m \u001b[0mlogger\u001b[0m\u001b[1;33m,\u001b[0m \u001b[0mdata_train\u001b[0m\u001b[1;33m)\u001b[0m\u001b[1;33m\u001b[0m\u001b[1;33m\u001b[0m\u001b[0m\n\u001b[0m\u001b[0;32m    186\u001b[0m                 \u001b[1;32mif\u001b[0m \u001b[0mda\u001b[0m\u001b[1;33m.\u001b[0m\u001b[0misnan\u001b[0m\u001b[1;33m(\u001b[0m\u001b[0mvae_tr\u001b[0m\u001b[1;33m)\u001b[0m\u001b[1;33m:\u001b[0m\u001b[1;33m\u001b[0m\u001b[1;33m\u001b[0m\u001b[0m\n\u001b[0;32m    187\u001b[0m                     \u001b[0mprint\u001b[0m \u001b[1;33m(\u001b[0m\u001b[1;34m'Encountered NaN, stopping training. Please check the learning_rate settings and the momentum.'\u001b[0m\u001b[1;33m)\u001b[0m\u001b[1;33m\u001b[0m\u001b[1;33m\u001b[0m\u001b[0m\n",
      "\u001b[1;32m~\\Documents\\projects\\Variational Autoencoders\\Alg_VAE\\VAE_model.py\u001b[0m in \u001b[0;36mtrain_epoch\u001b[1;34m(self, session, logger, data_train)\u001b[0m\n\u001b[0;32m     88\u001b[0m         \u001b[1;32mfor\u001b[0m \u001b[0m_\u001b[0m \u001b[1;32min\u001b[0m \u001b[0mloop\u001b[0m\u001b[1;33m:\u001b[0m\u001b[1;33m\u001b[0m\u001b[1;33m\u001b[0m\u001b[0m\n\u001b[0;32m     89\u001b[0m             \u001b[0mbatch_x\u001b[0m \u001b[1;33m=\u001b[0m \u001b[0mnext\u001b[0m\u001b[1;33m(\u001b[0m\u001b[0mdata_train\u001b[0m\u001b[1;33m.\u001b[0m\u001b[0mnext_batch\u001b[0m\u001b[1;33m(\u001b[0m\u001b[0mself\u001b[0m\u001b[1;33m.\u001b[0m\u001b[0mbatch_size\u001b[0m\u001b[1;33m)\u001b[0m\u001b[1;33m)\u001b[0m\u001b[1;33m\u001b[0m\u001b[1;33m\u001b[0m\u001b[0m\n\u001b[1;32m---> 90\u001b[1;33m             \u001b[0mvae_loss_curr\u001b[0m\u001b[1;33m,\u001b[0m \u001b[0mae_loss_curr\u001b[0m\u001b[1;33m,\u001b[0m \u001b[0mrecons_curr\u001b[0m\u001b[1;33m,\u001b[0m \u001b[0mkl_loss_curr\u001b[0m\u001b[1;33m,\u001b[0m \u001b[0mL2_loss_curr\u001b[0m \u001b[1;33m=\u001b[0m \u001b[0mself\u001b[0m\u001b[1;33m.\u001b[0m\u001b[0mmodel_graph\u001b[0m\u001b[1;33m.\u001b[0m\u001b[0mpartial_fit\u001b[0m\u001b[1;33m(\u001b[0m\u001b[0msession\u001b[0m\u001b[1;33m,\u001b[0m \u001b[0mbatch_x\u001b[0m\u001b[1;33m)\u001b[0m\u001b[1;33m\u001b[0m\u001b[1;33m\u001b[0m\u001b[0m\n\u001b[0m\u001b[0;32m     91\u001b[0m             \u001b[0mvae_losses\u001b[0m\u001b[1;33m.\u001b[0m\u001b[0mappend\u001b[0m\u001b[1;33m(\u001b[0m\u001b[0mvae_loss_curr\u001b[0m\u001b[1;33m)\u001b[0m\u001b[1;33m\u001b[0m\u001b[1;33m\u001b[0m\u001b[0m\n\u001b[0;32m     92\u001b[0m             \u001b[0mae_losses\u001b[0m\u001b[1;33m.\u001b[0m\u001b[0mappend\u001b[0m\u001b[1;33m(\u001b[0m\u001b[0mae_loss_curr\u001b[0m\u001b[1;33m)\u001b[0m\u001b[1;33m\u001b[0m\u001b[1;33m\u001b[0m\u001b[0m\n",
      "\u001b[1;32m~\\Documents\\projects\\Variational Autoencoders\\Alg_VAE\\VAE_graph.py\u001b[0m in \u001b[0;36mpartial_fit\u001b[1;34m(self, session, x)\u001b[0m\n\u001b[0;32m    215\u001b[0m         \u001b[0mtensors\u001b[0m \u001b[1;33m=\u001b[0m \u001b[1;33m[\u001b[0m\u001b[0mself\u001b[0m\u001b[1;33m.\u001b[0m\u001b[0mtrain_step\u001b[0m\u001b[1;33m,\u001b[0m \u001b[0mself\u001b[0m\u001b[1;33m.\u001b[0m\u001b[0mvae_loss\u001b[0m\u001b[1;33m,\u001b[0m \u001b[0mself\u001b[0m\u001b[1;33m.\u001b[0m\u001b[0mae_loss\u001b[0m\u001b[1;33m,\u001b[0m \u001b[0mself\u001b[0m\u001b[1;33m.\u001b[0m\u001b[0mloss_reconstruction_m\u001b[0m\u001b[1;33m,\u001b[0m \u001b[0mself\u001b[0m\u001b[1;33m.\u001b[0m\u001b[0mkl_loss_m\u001b[0m\u001b[1;33m,\u001b[0m \u001b[0mself\u001b[0m\u001b[1;33m.\u001b[0m\u001b[0mL2_loss\u001b[0m\u001b[1;33m]\u001b[0m\u001b[1;33m\u001b[0m\u001b[1;33m\u001b[0m\u001b[0m\n\u001b[0;32m    216\u001b[0m         \u001b[0mfeed_dict\u001b[0m \u001b[1;33m=\u001b[0m \u001b[1;33m{\u001b[0m\u001b[0mself\u001b[0m\u001b[1;33m.\u001b[0m\u001b[0mx_batch\u001b[0m\u001b[1;33m:\u001b[0m \u001b[0mx\u001b[0m\u001b[1;33m}\u001b[0m\u001b[1;33m\u001b[0m\u001b[1;33m\u001b[0m\u001b[0m\n\u001b[1;32m--> 217\u001b[1;33m         \u001b[0m_\u001b[0m\u001b[1;33m,\u001b[0m \u001b[0mvae_loss\u001b[0m\u001b[1;33m,\u001b[0m \u001b[0mae_loss\u001b[0m\u001b[1;33m,\u001b[0m \u001b[0mrecons\u001b[0m\u001b[1;33m,\u001b[0m \u001b[0mkl_loss\u001b[0m\u001b[1;33m,\u001b[0m \u001b[0mL2_loss\u001b[0m  \u001b[1;33m=\u001b[0m \u001b[0msession\u001b[0m\u001b[1;33m.\u001b[0m\u001b[0mrun\u001b[0m\u001b[1;33m(\u001b[0m\u001b[0mtensors\u001b[0m\u001b[1;33m,\u001b[0m \u001b[0mfeed_dict\u001b[0m\u001b[1;33m=\u001b[0m\u001b[0mfeed_dict\u001b[0m\u001b[1;33m)\u001b[0m\u001b[1;33m\u001b[0m\u001b[1;33m\u001b[0m\u001b[0m\n\u001b[0m\u001b[0;32m    218\u001b[0m \u001b[1;33m\u001b[0m\u001b[0m\n\u001b[0;32m    219\u001b[0m         \u001b[1;32mreturn\u001b[0m \u001b[0mvae_loss\u001b[0m\u001b[1;33m,\u001b[0m \u001b[0mae_loss\u001b[0m\u001b[1;33m,\u001b[0m \u001b[0mrecons\u001b[0m\u001b[1;33m,\u001b[0m \u001b[0mkl_loss\u001b[0m\u001b[1;33m,\u001b[0m \u001b[0mL2_loss\u001b[0m\u001b[1;33m\u001b[0m\u001b[1;33m\u001b[0m\u001b[0m\n",
      "\u001b[1;32mC:\\ProgramData\\Anaconda34\\envs\\gpu_env\\lib\\site-packages\\tensorflow\\python\\client\\session.py\u001b[0m in \u001b[0;36mrun\u001b[1;34m(self, fetches, feed_dict, options, run_metadata)\u001b[0m\n\u001b[0;32m    927\u001b[0m     \u001b[1;32mtry\u001b[0m\u001b[1;33m:\u001b[0m\u001b[1;33m\u001b[0m\u001b[1;33m\u001b[0m\u001b[0m\n\u001b[0;32m    928\u001b[0m       result = self._run(None, fetches, feed_dict, options_ptr,\n\u001b[1;32m--> 929\u001b[1;33m                          run_metadata_ptr)\n\u001b[0m\u001b[0;32m    930\u001b[0m       \u001b[1;32mif\u001b[0m \u001b[0mrun_metadata\u001b[0m\u001b[1;33m:\u001b[0m\u001b[1;33m\u001b[0m\u001b[1;33m\u001b[0m\u001b[0m\n\u001b[0;32m    931\u001b[0m         \u001b[0mproto_data\u001b[0m \u001b[1;33m=\u001b[0m \u001b[0mtf_session\u001b[0m\u001b[1;33m.\u001b[0m\u001b[0mTF_GetBuffer\u001b[0m\u001b[1;33m(\u001b[0m\u001b[0mrun_metadata_ptr\u001b[0m\u001b[1;33m)\u001b[0m\u001b[1;33m\u001b[0m\u001b[1;33m\u001b[0m\u001b[0m\n",
      "\u001b[1;32mC:\\ProgramData\\Anaconda34\\envs\\gpu_env\\lib\\site-packages\\tensorflow\\python\\client\\session.py\u001b[0m in \u001b[0;36m_run\u001b[1;34m(self, handle, fetches, feed_dict, options, run_metadata)\u001b[0m\n\u001b[0;32m   1150\u001b[0m     \u001b[1;32mif\u001b[0m \u001b[0mfinal_fetches\u001b[0m \u001b[1;32mor\u001b[0m \u001b[0mfinal_targets\u001b[0m \u001b[1;32mor\u001b[0m \u001b[1;33m(\u001b[0m\u001b[0mhandle\u001b[0m \u001b[1;32mand\u001b[0m \u001b[0mfeed_dict_tensor\u001b[0m\u001b[1;33m)\u001b[0m\u001b[1;33m:\u001b[0m\u001b[1;33m\u001b[0m\u001b[1;33m\u001b[0m\u001b[0m\n\u001b[0;32m   1151\u001b[0m       results = self._do_run(handle, final_targets, final_fetches,\n\u001b[1;32m-> 1152\u001b[1;33m                              feed_dict_tensor, options, run_metadata)\n\u001b[0m\u001b[0;32m   1153\u001b[0m     \u001b[1;32melse\u001b[0m\u001b[1;33m:\u001b[0m\u001b[1;33m\u001b[0m\u001b[1;33m\u001b[0m\u001b[0m\n\u001b[0;32m   1154\u001b[0m       \u001b[0mresults\u001b[0m \u001b[1;33m=\u001b[0m \u001b[1;33m[\u001b[0m\u001b[1;33m]\u001b[0m\u001b[1;33m\u001b[0m\u001b[1;33m\u001b[0m\u001b[0m\n",
      "\u001b[1;32mC:\\ProgramData\\Anaconda34\\envs\\gpu_env\\lib\\site-packages\\tensorflow\\python\\client\\session.py\u001b[0m in \u001b[0;36m_do_run\u001b[1;34m(self, handle, target_list, fetch_list, feed_dict, options, run_metadata)\u001b[0m\n\u001b[0;32m   1326\u001b[0m     \u001b[1;32mif\u001b[0m \u001b[0mhandle\u001b[0m \u001b[1;32mis\u001b[0m \u001b[1;32mNone\u001b[0m\u001b[1;33m:\u001b[0m\u001b[1;33m\u001b[0m\u001b[1;33m\u001b[0m\u001b[0m\n\u001b[0;32m   1327\u001b[0m       return self._do_call(_run_fn, feeds, fetches, targets, options,\n\u001b[1;32m-> 1328\u001b[1;33m                            run_metadata)\n\u001b[0m\u001b[0;32m   1329\u001b[0m     \u001b[1;32melse\u001b[0m\u001b[1;33m:\u001b[0m\u001b[1;33m\u001b[0m\u001b[1;33m\u001b[0m\u001b[0m\n\u001b[0;32m   1330\u001b[0m       \u001b[1;32mreturn\u001b[0m \u001b[0mself\u001b[0m\u001b[1;33m.\u001b[0m\u001b[0m_do_call\u001b[0m\u001b[1;33m(\u001b[0m\u001b[0m_prun_fn\u001b[0m\u001b[1;33m,\u001b[0m \u001b[0mhandle\u001b[0m\u001b[1;33m,\u001b[0m \u001b[0mfeeds\u001b[0m\u001b[1;33m,\u001b[0m \u001b[0mfetches\u001b[0m\u001b[1;33m)\u001b[0m\u001b[1;33m\u001b[0m\u001b[1;33m\u001b[0m\u001b[0m\n",
      "\u001b[1;32mC:\\ProgramData\\Anaconda34\\envs\\gpu_env\\lib\\site-packages\\tensorflow\\python\\client\\session.py\u001b[0m in \u001b[0;36m_do_call\u001b[1;34m(self, fn, *args)\u001b[0m\n\u001b[0;32m   1332\u001b[0m   \u001b[1;32mdef\u001b[0m \u001b[0m_do_call\u001b[0m\u001b[1;33m(\u001b[0m\u001b[0mself\u001b[0m\u001b[1;33m,\u001b[0m \u001b[0mfn\u001b[0m\u001b[1;33m,\u001b[0m \u001b[1;33m*\u001b[0m\u001b[0margs\u001b[0m\u001b[1;33m)\u001b[0m\u001b[1;33m:\u001b[0m\u001b[1;33m\u001b[0m\u001b[1;33m\u001b[0m\u001b[0m\n\u001b[0;32m   1333\u001b[0m     \u001b[1;32mtry\u001b[0m\u001b[1;33m:\u001b[0m\u001b[1;33m\u001b[0m\u001b[1;33m\u001b[0m\u001b[0m\n\u001b[1;32m-> 1334\u001b[1;33m       \u001b[1;32mreturn\u001b[0m \u001b[0mfn\u001b[0m\u001b[1;33m(\u001b[0m\u001b[1;33m*\u001b[0m\u001b[0margs\u001b[0m\u001b[1;33m)\u001b[0m\u001b[1;33m\u001b[0m\u001b[1;33m\u001b[0m\u001b[0m\n\u001b[0m\u001b[0;32m   1335\u001b[0m     \u001b[1;32mexcept\u001b[0m \u001b[0merrors\u001b[0m\u001b[1;33m.\u001b[0m\u001b[0mOpError\u001b[0m \u001b[1;32mas\u001b[0m \u001b[0me\u001b[0m\u001b[1;33m:\u001b[0m\u001b[1;33m\u001b[0m\u001b[1;33m\u001b[0m\u001b[0m\n\u001b[0;32m   1336\u001b[0m       \u001b[0mmessage\u001b[0m \u001b[1;33m=\u001b[0m \u001b[0mcompat\u001b[0m\u001b[1;33m.\u001b[0m\u001b[0mas_text\u001b[0m\u001b[1;33m(\u001b[0m\u001b[0me\u001b[0m\u001b[1;33m.\u001b[0m\u001b[0mmessage\u001b[0m\u001b[1;33m)\u001b[0m\u001b[1;33m\u001b[0m\u001b[1;33m\u001b[0m\u001b[0m\n",
      "\u001b[1;32mC:\\ProgramData\\Anaconda34\\envs\\gpu_env\\lib\\site-packages\\tensorflow\\python\\client\\session.py\u001b[0m in \u001b[0;36m_run_fn\u001b[1;34m(feed_dict, fetch_list, target_list, options, run_metadata)\u001b[0m\n\u001b[0;32m   1317\u001b[0m       \u001b[0mself\u001b[0m\u001b[1;33m.\u001b[0m\u001b[0m_extend_graph\u001b[0m\u001b[1;33m(\u001b[0m\u001b[1;33m)\u001b[0m\u001b[1;33m\u001b[0m\u001b[1;33m\u001b[0m\u001b[0m\n\u001b[0;32m   1318\u001b[0m       return self._call_tf_sessionrun(\n\u001b[1;32m-> 1319\u001b[1;33m           options, feed_dict, fetch_list, target_list, run_metadata)\n\u001b[0m\u001b[0;32m   1320\u001b[0m \u001b[1;33m\u001b[0m\u001b[0m\n\u001b[0;32m   1321\u001b[0m     \u001b[1;32mdef\u001b[0m \u001b[0m_prun_fn\u001b[0m\u001b[1;33m(\u001b[0m\u001b[0mhandle\u001b[0m\u001b[1;33m,\u001b[0m \u001b[0mfeed_dict\u001b[0m\u001b[1;33m,\u001b[0m \u001b[0mfetch_list\u001b[0m\u001b[1;33m)\u001b[0m\u001b[1;33m:\u001b[0m\u001b[1;33m\u001b[0m\u001b[1;33m\u001b[0m\u001b[0m\n",
      "\u001b[1;32mC:\\ProgramData\\Anaconda34\\envs\\gpu_env\\lib\\site-packages\\tensorflow\\python\\client\\session.py\u001b[0m in \u001b[0;36m_call_tf_sessionrun\u001b[1;34m(self, options, feed_dict, fetch_list, target_list, run_metadata)\u001b[0m\n\u001b[0;32m   1405\u001b[0m     return tf_session.TF_SessionRun_wrapper(\n\u001b[0;32m   1406\u001b[0m         \u001b[0mself\u001b[0m\u001b[1;33m.\u001b[0m\u001b[0m_session\u001b[0m\u001b[1;33m,\u001b[0m \u001b[0moptions\u001b[0m\u001b[1;33m,\u001b[0m \u001b[0mfeed_dict\u001b[0m\u001b[1;33m,\u001b[0m \u001b[0mfetch_list\u001b[0m\u001b[1;33m,\u001b[0m \u001b[0mtarget_list\u001b[0m\u001b[1;33m,\u001b[0m\u001b[1;33m\u001b[0m\u001b[1;33m\u001b[0m\u001b[0m\n\u001b[1;32m-> 1407\u001b[1;33m         run_metadata)\n\u001b[0m\u001b[0;32m   1408\u001b[0m \u001b[1;33m\u001b[0m\u001b[0m\n\u001b[0;32m   1409\u001b[0m   \u001b[1;32mdef\u001b[0m \u001b[0m_call_tf_sessionprun\u001b[0m\u001b[1;33m(\u001b[0m\u001b[0mself\u001b[0m\u001b[1;33m,\u001b[0m \u001b[0mhandle\u001b[0m\u001b[1;33m,\u001b[0m \u001b[0mfeed_dict\u001b[0m\u001b[1;33m,\u001b[0m \u001b[0mfetch_list\u001b[0m\u001b[1;33m)\u001b[0m\u001b[1;33m:\u001b[0m\u001b[1;33m\u001b[0m\u001b[1;33m\u001b[0m\u001b[0m\n",
      "\u001b[1;31mKeyboardInterrupt\u001b[0m: "
     ]
    },
    {
     "data": {
      "image/png": "[encoded data removed]",
      "text/plain": [
       "<matplotlib.figure.Figure at 0x1d581bf0748>"
      ]
     },
     "metadata": {
      "needs_background": "light"
     },
     "output_type": "display_data"
    }
   ],
   "source": [
    "ae.fit(X,y)"
   ]
  },
  {
   "cell_type": "code",
   "execution_count": null,
   "metadata": {},
   "outputs": [],
   "source": [
    "from IPython.display import display"
   ]
  },
  {
   "cell_type": "code",
   "execution_count": null,
   "metadata": {},
   "outputs": [],
   "source": [
    "imgs = ae.animate()"
   ]
  },
  {
   "cell_type": "code",
   "execution_count": null,
   "metadata": {},
   "outputs": [],
   "source": [
    "for img in imgs:\n",
    "    display(img)"
   ]
  },
  {
   "cell_type": "code",
   "execution_count": null,
   "metadata": {},
   "outputs": [],
   "source": [
    "import matplotlib.pyplot as plt"
   ]
  },
  {
   "cell_type": "code",
   "execution_count": null,
   "metadata": {},
   "outputs": [],
   "source": [
    "plt.imshow(X[0])\n",
    "plt.axis('off')"
   ]
  },
  {
   "cell_type": "code",
   "execution_count": null,
   "metadata": {
    "scrolled": true
   },
   "outputs": [],
   "source": [
    "z1 = ae.encode(X[0:1])"
   ]
  },
  {
   "cell_type": "code",
   "execution_count": null,
   "metadata": {
    "scrolled": true
   },
   "outputs": [],
   "source": [
    "z1.shape"
   ]
  },
  {
   "cell_type": "code",
   "execution_count": null,
   "metadata": {},
   "outputs": [],
   "source": [
    "x1_const = ae.decode(z1)"
   ]
  },
  {
   "cell_type": "code",
   "execution_count": null,
   "metadata": {},
   "outputs": [],
   "source": [
    "plt.imshow(x1_const[0])\n",
    "plt.axis('off')"
   ]
  },
  {
   "cell_type": "code",
   "execution_count": null,
   "metadata": {},
   "outputs": [],
   "source": [
    "pred = ae.reconst_loss(X[0:100])"
   ]
  },
  {
   "cell_type": "code",
   "execution_count": null,
   "metadata": {},
   "outputs": [],
   "source": [
    "pred.shape"
   ]
  },
  {
   "cell_type": "code",
   "execution_count": null,
   "metadata": {},
   "outputs": [],
   "source": [
    "plt.imshow(X[1])\n",
    "plt.axis('off')"
   ]
  },
  {
   "cell_type": "code",
   "execution_count": null,
   "metadata": {
    "scrolled": true
   },
   "outputs": [],
   "source": [
    "imgs = ae.interpolate(X[0:100], X[200:300])"
   ]
  },
  {
   "cell_type": "code",
   "execution_count": null,
   "metadata": {},
   "outputs": [],
   "source": [
    "from _utils.plots import merge\n",
    "from scipy.misc import imresize"
   ]
  },
  {
   "cell_type": "code",
   "execution_count": null,
   "metadata": {},
   "outputs": [],
   "source": [
    "len(imgs)"
   ]
  },
  {
   "cell_type": "code",
   "execution_count": null,
   "metadata": {},
   "outputs": [],
   "source": [
    "scale = 20\n",
    "im = merge(np.vstack(imgs), (len(imgs),12))\n",
    "fig_width = int(im.shape[0] * scale)\n",
    "fig_height = int(im.shape[1] * scale)\n",
    "\n",
    "im = imresize(im, (fig_width, fig_height, 3))"
   ]
  },
  {
   "cell_type": "code",
   "execution_count": null,
   "metadata": {
    "scrolled": false
   },
   "outputs": [],
   "source": [
    "plt.figure(figsize = (len(imgs),24), dpi=70)\n",
    "plt.imshow(im)\n",
    "plt.axis('off')\n"
   ]
  },
  {
   "cell_type": "code",
   "execution_count": null,
   "metadata": {},
   "outputs": [],
   "source": [
    "import scipy.misc\n",
    "scipy.misc.imsave(ae.model.summary_dir+'\\\\interpolate.jpg', im)"
   ]
  },
  {
   "cell_type": "code",
   "execution_count": null,
   "metadata": {},
   "outputs": [],
   "source": []
  },
  {
   "cell_type": "code",
   "execution_count": null,
   "metadata": {},
   "outputs": [],
   "source": []
  },
  {
   "cell_type": "code",
   "execution_count": null,
   "metadata": {},
   "outputs": [],
   "source": []
  },
  {
   "cell_type": "code",
   "execution_count": null,
   "metadata": {},
   "outputs": [],
   "source": []
  },
  {
   "cell_type": "code",
   "execution_count": null,
   "metadata": {},
   "outputs": [],
   "source": []
  }
 ],
 "metadata": {
  "kernelspec": {
   "display_name": "Python 3",
   "language": "python",
   "name": "python3"
  },
  "language_info": {
   "codemirror_mode": {
    "name": "ipython",
    "version": 3
   },
   "file_extension": ".py",
   "mimetype": "text/x-python",
   "name": "python",
   "nbconvert_exporter": "python",
   "pygments_lexer": "ipython3",
   "version": "3.6.7"
  }
 },
 "nbformat": 4,
 "nbformat_minor": 2
}
