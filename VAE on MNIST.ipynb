{
 "cells": [
  {
   "cell_type": "code",
   "execution_count": 1,
   "metadata": {},
   "outputs": [],
   "source": [
    "import warnings\n",
    "warnings.filterwarnings('ignore')"
   ]
  },
  {
   "cell_type": "markdown",
   "metadata": {},
   "source": [
    "# Prepare the Dataset"
   ]
  },
  {
   "cell_type": "code",
   "execution_count": 2,
   "metadata": {},
   "outputs": [],
   "source": [
    "dataset_name = 'MNIST'"
   ]
  },
  {
   "cell_type": "code",
   "execution_count": 3,
   "metadata": {
    "scrolled": true
   },
   "outputs": [
    {
     "name": "stderr",
     "output_type": "stream",
     "text": [
      "Using TensorFlow backend.\n"
     ]
    },
    {
     "name": "stdout",
     "output_type": "stream",
     "text": [
      "Dataset size (70000, 28, 28)\n"
     ]
    }
   ],
   "source": [
    "import numpy as np\n",
    "from keras.datasets import mnist\n",
    "(X, y), (X_test, y_test) = mnist.load_data()\n",
    "X = np.concatenate((X, X_test))\n",
    "y = np.concatenate((y, y_test))\n",
    "imgs = X\n",
    "del X_test\n",
    "del y_test\n",
    "\n",
    "print('Dataset size {}'.format(X.shape))\n"
   ]
  },
  {
   "cell_type": "markdown",
   "metadata": {},
   "source": [
    "# VAE"
   ]
  },
  {
   "cell_type": "code",
   "execution_count": 4,
   "metadata": {},
   "outputs": [],
   "source": [
    "%load_ext autoreload\n",
    "%autoreload 2"
   ]
  },
  {
   "cell_type": "code",
   "execution_count": 5,
   "metadata": {},
   "outputs": [],
   "source": [
    "!git rev-parse HEAD > hash.txt"
   ]
  },
  {
   "cell_type": "code",
   "execution_count": 6,
   "metadata": {},
   "outputs": [],
   "source": [
    "model_name = 'VAE'\n",
    "with open (\"hash.txt\", \"r\") as myfile:\n",
    "    data=myfile.readlines()\n",
    " # will be used to identify which version of the code the experiment was run on."
   ]
  },
  {
   "cell_type": "code",
   "execution_count": 7,
   "metadata": {},
   "outputs": [],
   "source": [
    "revision_hash=data[0].rstrip()\n"
   ]
  },
  {
   "cell_type": "code",
   "execution_count": 8,
   "metadata": {},
   "outputs": [],
   "source": [
    "from models.VAE import VAE"
   ]
  },
  {
   "cell_type": "code",
   "execution_count": 9,
   "metadata": {},
   "outputs": [],
   "source": [
    "ae = VAE(dataset_name, epochs=int(2e5), num_layers=3, latent_dim=10,\n",
    "        hidden_dim=500, l_rate=1e-4, batch_size=64, plot=True,restore=True, clustering=False,revision_hash=revision_hash)"
   ]
  },
  {
   "cell_type": "code",
   "execution_count": 12,
   "metadata": {
    "scrolled": false
   },
   "outputs": [
    {
     "name": "stdout",
     "output_type": "stream",
     "text": [
      "\n",
      " Processing data...\n",
      "Scaling dataset\n"
     ]
    },
    {
     "name": "stderr",
     "output_type": "stream",
     "text": [
      "Mixture of types in 'arrays'. Falling back to scikit-learn.\n"
     ]
    },
    {
     "name": "stdout",
     "output_type": "stream",
     "text": [
      "Training dataset shape:  (56000, 28, 28, 3)\n",
      "Validation dataset shape:  (14000, 28, 28, 3)\n",
      "Sample dataset shape:  (50000, 28, 28, 3)\n",
      "\n",
      " building a model...\n",
      "\n",
      "[*] Defining encoder...\n",
      "\n",
      "[*] Layer ( encoder_mean/dense_1/Relu:0 ) output shape: [64, 500]\n",
      "[*] Layer ( encoder_mean/dense_1_dropout/Identity:0 ) output shape: [64, 500]\n",
      "[*] Layer ( encoder_mean/dense_2/Relu:0 ) output shape: [64, 500]\n",
      "[*] Layer ( encoder_mean/dense_2_dropout/Identity:0 ) output shape: [64, 500]\n",
      "[*] Layer ( encoder_mean/H2_batch_norm/batchnorm/add_1:0 ) output shape: [64, 500]\n",
      "[*] Layer ( encoder_mean/dense_3/BiasAdd:0 ) output shape: [64, 10]\n",
      "\n",
      "[*] Layer ( encoder_var/dense_1/Relu:0 ) output shape: [64, 500]\n",
      "[*] Layer ( encoder_var/dense_1_dropout/Identity:0 ) output shape: [64, 500]\n",
      "[*] Layer ( encoder_var/dense_2/Relu:0 ) output shape: [64, 500]\n",
      "[*] Layer ( encoder_var/dense_2_dropout/Identity:0 ) output shape: [64, 500]\n",
      "[*] Layer ( encoder_var/H2_batch_norm/batchnorm/add_1:0 ) output shape: [64, 500]\n",
      "[*] Layer ( encoder_var/dense_3/Softplus:0 ) output shape: [64, 10]\n",
      "\n",
      "[*] Reparameterization trick...\n",
      "\n",
      "[*] Defining decoder...\n",
      "\n",
      "[*] Layer ( decoder_mean/dense_1/Relu:0 ) output shape: [64, 500]\n",
      "[*] Layer ( decoder_mean/dense_1_dropout/Identity:0 ) output shape: [64, 500]\n",
      "[*] Layer ( decoder_mean/dense_2/Relu:0 ) output shape: [64, 500]\n",
      "[*] Layer ( decoder_mean/dense_2_dropout/Identity:0 ) output shape: [64, 500]\n",
      "[*] Layer ( decoder_mean/H2_batch_norm/batchnorm/add_1:0 ) output shape: [64, 500]\n",
      "[*] Layer ( decoder_mean/dense_3/Sigmoid:0 ) output shape: [64, 2352]\n",
      "[*] Defining Loss Functions and Optimizer...\n",
      "building VAE Model...\n",
      "\n",
      "Number of trainable paramters 4301372\n"
     ]
    }
   ],
   "source": [
    "ae.build(X,y)"
   ]
  },
  {
   "cell_type": "code",
   "execution_count": 23,
   "metadata": {},
   "outputs": [
    {
     "name": "stdout",
     "output_type": "stream",
     "text": [
      "Scaling dataset\n",
      "Sample dataset shape:  (5000, 28, 28, 3)\n",
      "Loading model checkpoint experiments/VAE_MNIST_latent_dim10_h_dim500_h_nl3_sigma0001_c11046a2cf04f4c2c60811d736f94aeed422f0d4/checkpoints\\-12250 ...\n",
      "\n",
      "INFO:tensorflow:Restoring parameters from experiments/VAE_MNIST_latent_dim10_h_dim500_h_nl3_sigma0001_c11046a2cf04f4c2c60811d736f94aeed422f0d4/checkpoints\\-12250\n",
      "Model loaded\n",
      "EPOCHS trained:  5\n"
     ]
    },
    {
     "data": {
      "application/vnd.jupyter.widget-view+json": {
       "model_id": "adb7f09216304e62b5d6376568ac45b5",
       "version_major": 2,
       "version_minor": 0
      },
      "text/plain": [
       "HBox(children=(IntProgress(value=0, max=1093), HTML(value='')))"
      ]
     },
     "metadata": {},
     "output_type": "display_data"
    },
    {
     "name": "stdout",
     "output_type": "stream",
     "text": [
      "\n",
      "VALID | VAE Loss:  307.55817 AE Loss:  268.26846  | Recons:  268.2647\n",
      "      | KL-div:  39.289684  | L2_loss:  3775.4985\n",
      "Generating W space ...\n",
      "Loading model checkpoint experiments/VAE_MNIST_latent_dim10_h_dim500_h_nl3_sigma0001_c11046a2cf04f4c2c60811d736f94aeed422f0d4/checkpoints\\-12250 ...\n",
      "\n",
      "INFO:tensorflow:Restoring parameters from experiments/VAE_MNIST_latent_dim10_h_dim500_h_nl3_sigma0001_c11046a2cf04f4c2c60811d736f94aeed422f0d4/checkpoints\\-12250\n",
      "Model loaded\n",
      "EPOCHS trained:  5\n"
     ]
    },
    {
     "data": {
      "application/vnd.jupyter.widget-view+json": {
       "model_id": "fce4158b501846af938b41a130228128",
       "version_major": 2,
       "version_minor": 0
      },
      "text/plain": [
       "HBox(children=(IntProgress(value=0, max=1093), HTML(value='')))"
      ]
     },
     "metadata": {},
     "output_type": "display_data"
    },
    {
     "name": "stdout",
     "output_type": "stream",
     "text": [
      "\n",
      "W space dimensions: (70000, 2)\n",
      "Ploting W space ...\n",
      "experiments/VAE_MNIST_latent_dim10_h_dim500_h_nl3_sigma0001_c11046a2cf04f4c2c60811d736f94aeed422f0d4/log/log W space in epoch 0.jpg\n",
      "Plotting Dataset\n",
      "data size (70000, 2)\n"
     ]
    },
    {
     "data": {
      "application/vnd.jupyter.widget-view+json": {
       "model_id": "fc31bd7d693941e6bf5c648def2840d4",
       "version_major": 2,
       "version_minor": 0
      },
      "text/plain": [
       "HBox(children=(IntProgress(value=0, max=70000), HTML(value='')))"
      ]
     },
     "metadata": {},
     "output_type": "display_data"
    },
    {
     "name": "stdout",
     "output_type": "stream",
     "text": [
      "\n",
      "Saving Image experiments/VAE_MNIST_latent_dim10_h_dim500_h_nl3_sigma0001_c11046a2cf04f4c2c60811d736f94aeed422f0d4/log/log W space in epoch 0.jpg ...\n",
      "W space dimensions: (70000, 3)\n",
      "Ploting W space ...\n",
      "data size (70000, 3)\n"
     ]
    },
    {
     "data": {
      "application/vnd.jupyter.widget-view+json": {
       "model_id": "61fa4c0644434ea783190f50e9606310",
       "version_major": 2,
       "version_minor": 0
      },
      "text/plain": [
       "HBox(children=(IntProgress(value=0, max=1), HTML(value='')))"
      ]
     },
     "metadata": {},
     "output_type": "display_data"
    },
    {
     "name": "stdout",
     "output_type": "stream",
     "text": [
      "\n",
      "Saving Image experiments/VAE_MNIST_latent_dim10_h_dim500_h_nl3_sigma0001_c11046a2cf04f4c2c60811d736f94aeed422f0d4/log/log W space 3d in epoch 0.jpg ...\n",
      "Generating Samples ...\n",
      "Loading model checkpoint experiments/VAE_MNIST_latent_dim10_h_dim500_h_nl3_sigma0001_c11046a2cf04f4c2c60811d736f94aeed422f0d4/checkpoints\\-12250 ...\n",
      "\n",
      "INFO:tensorflow:Restoring parameters from experiments/VAE_MNIST_latent_dim10_h_dim500_h_nl3_sigma0001_c11046a2cf04f4c2c60811d736f94aeed422f0d4/checkpoints\\-12250\n",
      "Model loaded\n",
      "EPOCHS trained:  5\n"
     ]
    },
    {
     "data": {
      "application/vnd.jupyter.widget-view+json": {
       "model_id": "ac5e6105b30c4809a0861b37d03ddb38",
       "version_major": 2,
       "version_minor": 0
      },
      "text/plain": [
       "HBox(children=(IntProgress(value=0, max=78), HTML(value='')))"
      ]
     },
     "metadata": {},
     "output_type": "display_data"
    },
    {
     "name": "stdout",
     "output_type": "stream",
     "text": [
      "\n",
      "Loading model checkpoint experiments/VAE_MNIST_latent_dim10_h_dim500_h_nl3_sigma0001_c11046a2cf04f4c2c60811d736f94aeed422f0d4/checkpoints\\-12250 ...\n",
      "\n",
      "INFO:tensorflow:Restoring parameters from experiments/VAE_MNIST_latent_dim10_h_dim500_h_nl3_sigma0001_c11046a2cf04f4c2c60811d736f94aeed422f0d4/checkpoints\\-12250\n",
      "Model loaded\n",
      "EPOCHS trained:  5\n"
     ]
    },
    {
     "data": {
      "application/vnd.jupyter.widget-view+json": {
       "model_id": "90eb4926b5a84da0be9473deaa34ae7f",
       "version_major": 2,
       "version_minor": 0
      },
      "text/plain": [
       "HBox(children=(IntProgress(value=0, max=78), HTML(value='')))"
      ]
     },
     "metadata": {},
     "output_type": "display_data"
    },
    {
     "name": "stdout",
     "output_type": "stream",
     "text": [
      "\n"
     ]
    },
    {
     "data": {
      "image/png": "[encoded data removed]",
      "text/plain": [
       "<matplotlib.figure.Figure at 0x14bce5aa1d0>"
      ]
     },
     "metadata": {
      "needs_background": "light"
     },
     "output_type": "display_data"
    }
   ],
   "source": [
    "ae.test(X)"
   ]
  },
  {
   "cell_type": "code",
   "execution_count": null,
   "metadata": {},
   "outputs": [],
   "source": [
    "imgs = ae.animate()"
   ]
  },
  {
   "cell_type": "code",
   "execution_count": null,
   "metadata": {},
   "outputs": [],
   "source": [
    "for img in imgs:\n",
    "    display(img)"
   ]
  },
  {
   "cell_type": "code",
   "execution_count": null,
   "metadata": {},
   "outputs": [],
   "source": [
    "import matplotlib.pyplot as plt"
   ]
  },
  {
   "cell_type": "code",
   "execution_count": null,
   "metadata": {},
   "outputs": [],
   "source": [
    "plt.imshow(X[0])\n",
    "plt.axis('off')"
   ]
  },
  {
   "cell_type": "code",
   "execution_count": null,
   "metadata": {
    "scrolled": true
   },
   "outputs": [],
   "source": [
    "z1 = ae.encode(X[0:1])"
   ]
  },
  {
   "cell_type": "code",
   "execution_count": null,
   "metadata": {
    "scrolled": true
   },
   "outputs": [],
   "source": [
    "z1.shape"
   ]
  },
  {
   "cell_type": "code",
   "execution_count": null,
   "metadata": {},
   "outputs": [],
   "source": [
    "x1_const = ae.decode(z1)"
   ]
  },
  {
   "cell_type": "code",
   "execution_count": null,
   "metadata": {},
   "outputs": [],
   "source": [
    "plt.imshow(x1_const[0])\n",
    "plt.axis('off')"
   ]
  },
  {
   "cell_type": "code",
   "execution_count": null,
   "metadata": {},
   "outputs": [],
   "source": [
    "pred = ae.reconst_loss(X[0:100])"
   ]
  },
  {
   "cell_type": "code",
   "execution_count": null,
   "metadata": {},
   "outputs": [],
   "source": [
    "pred.shape"
   ]
  },
  {
   "cell_type": "code",
   "execution_count": null,
   "metadata": {},
   "outputs": [],
   "source": [
    "plt.imshow(X[1])\n",
    "plt.axis('off')"
   ]
  },
  {
   "cell_type": "code",
   "execution_count": null,
   "metadata": {
    "scrolled": true
   },
   "outputs": [],
   "source": [
    "imgs = ae.interpolate(X[0:100], X[200:300])"
   ]
  },
  {
   "cell_type": "code",
   "execution_count": null,
   "metadata": {},
   "outputs": [],
   "source": [
    "from _utils.plots import merge\n",
    "from scipy.misc import imresize"
   ]
  },
  {
   "cell_type": "code",
   "execution_count": null,
   "metadata": {},
   "outputs": [],
   "source": [
    "len(imgs)"
   ]
  },
  {
   "cell_type": "code",
   "execution_count": null,
   "metadata": {},
   "outputs": [],
   "source": [
    "scale = 20\n",
    "im = merge(np.vstack(imgs), (len(imgs),12))\n",
    "fig_width = int(im.shape[0] * scale)\n",
    "fig_height = int(im.shape[1] * scale)\n",
    "\n",
    "im = imresize(im, (fig_width, fig_height, 3))"
   ]
  },
  {
   "cell_type": "code",
   "execution_count": null,
   "metadata": {
    "scrolled": false
   },
   "outputs": [],
   "source": [
    "plt.figure(figsize = (len(imgs),24), dpi=70)\n",
    "plt.imshow(im)\n",
    "plt.axis('off')\n"
   ]
  },
  {
   "cell_type": "code",
   "execution_count": null,
   "metadata": {},
   "outputs": [],
   "source": [
    "import scipy.misc\n",
    "scipy.misc.imsave(ae.model.summary_dir+'\\\\interpolate.jpg', im)"
   ]
  },
  {
   "cell_type": "code",
   "execution_count": null,
   "metadata": {},
   "outputs": [],
   "source": []
  },
  {
   "cell_type": "code",
   "execution_count": null,
   "metadata": {},
   "outputs": [],
   "source": []
  },
  {
   "cell_type": "code",
   "execution_count": null,
   "metadata": {},
   "outputs": [],
   "source": []
  },
  {
   "cell_type": "code",
   "execution_count": null,
   "metadata": {},
   "outputs": [],
   "source": []
  },
  {
   "cell_type": "code",
   "execution_count": null,
   "metadata": {},
   "outputs": [],
   "source": []
  },
  {
   "cell_type": "code",
   "execution_count": null,
   "metadata": {},
   "outputs": [],
   "source": []
  }
 ],
 "metadata": {
  "kernelspec": {
   "display_name": "gpu_env",
   "language": "python",
   "name": "gpu_env"
  },
  "language_info": {
   "codemirror_mode": {
    "name": "ipython",
    "version": 3
   },
   "file_extension": ".py",
   "mimetype": "text/x-python",
   "name": "python",
   "nbconvert_exporter": "python",
   "pygments_lexer": "ipython3",
   "version": "3.6.7"
  }
 },
 "nbformat": 4,
 "nbformat_minor": 2
}
